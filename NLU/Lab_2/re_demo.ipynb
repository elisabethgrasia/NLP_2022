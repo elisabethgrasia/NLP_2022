{
 "cells": [
  {
   "cell_type": "code",
   "execution_count": null,
   "metadata": {
    "slideshow": {
     "slide_type": "slide"
    }
   },
   "outputs": [],
   "source": [
    "import re\n",
    "s = \"I am a student of Western Sydney University. He is doing the NLU unit (301313) this semester.\"\n",
    "pat1 = re.compile('[A-Z]')\n",
    "print(pat1.match(\"\"))\n",
    "print(pat1.match(s))\n",
    "print(pat1.search(s))"
   ]
  },
  {
   "cell_type": "code",
   "execution_count": 24,
   "metadata": {},
   "outputs": [
    {
     "data": {
      "text/plain": [
       "'baaaa'"
      ]
     },
     "execution_count": 24,
     "metadata": {},
     "output_type": "execute_result"
    }
   ],
   "source": [
    "s1 = \"baaaa\"\n",
    "s2 = \"baa\"\n",
    "xx = re.match('baaa+', s1)\n",
    "xx.group()"
   ]
  },
  {
   "cell_type": "markdown",
   "metadata": {
    "slideshow": {
     "slide_type": "subslide"
    }
   },
   "source": [
    "The \"re.match()\" function retursns an object. We can expolre this object. \n",
    "For a thorough review of re's in Python 3.8.* see https://docs.python.org/3/howto/regex.html"
   ]
  },
  {
   "cell_type": "code",
   "execution_count": null,
   "metadata": {},
   "outputs": [],
   "source": [
    "print(pat1.match(s).group())\n",
    "dir(pat1.match(s))"
   ]
  },
  {
   "cell_type": "code",
   "execution_count": null,
   "metadata": {
    "slideshow": {
     "slide_type": "slide"
    }
   },
   "outputs": [],
   "source": [
    "p2 = re.compile('[a-z]')\n",
    "m2 = p2.match(\"I am a student of Western Sydney University.\")\n",
    "print(m2)\n",
    "s2 = \"student of Western Sydney University\"\n",
    "m3 = p2.match(s2)\n",
    "print(m3)\n",
    "p3 = re.compile('[a-z]+')\n",
    "ma3 = p3.match(s2)\n",
    "ma3.group(0)"
   ]
  },
  {
   "cell_type": "code",
   "execution_count": null,
   "metadata": {
    "slideshow": {
     "slide_type": "subslide"
    }
   },
   "outputs": [],
   "source": [
    "import inspect\n",
    "inspect.getmembers(ma3)"
   ]
  },
  {
   "cell_type": "markdown",
   "metadata": {
    "slideshow": {
     "slide_type": "notes"
    }
   },
   "source": [
    "We don't have to *compile*. Also note that the function **pattern.match()** starts from the beginning of the string and tries to find maximum match. Greedy! We can also use **re** directly instead of compiling. "
   ]
  },
  {
   "cell_type": "code",
   "execution_count": null,
   "metadata": {
    "slideshow": {
     "slide_type": "slide"
    }
   },
   "outputs": [],
   "source": [
    "m4 = re.match('[a-z]+', s2)\n",
    "m4"
   ]
  },
  {
   "cell_type": "markdown",
   "metadata": {
    "slideshow": {
     "slide_type": "slide"
    }
   },
   "source": [
    "How do we find a match anywhere, not just at the beginning?"
   ]
  },
  {
   "cell_type": "code",
   "execution_count": null,
   "metadata": {
    "slideshow": {
     "slide_type": "subslide"
    }
   },
   "outputs": [],
   "source": [
    "p1 = '[^A-Z]'\n",
    "re.search(p1, s)"
   ]
  },
  {
   "cell_type": "code",
   "execution_count": null,
   "metadata": {
    "slideshow": {
     "slide_type": "slide"
    }
   },
   "outputs": [],
   "source": [
    "shp = 'baaa*!'\n",
    "sh0 = \"baa!\"\n",
    "sh1 = \"baaa!\"\n",
    "sh_m = \"baaaaaaaaaaaaaaaaaaaaaaaaaaaaaaaaaaaaaaaaaaaaaaaaaaaaaa!\"\n",
    "print(re.match(shp, sh0))\n",
    "print(re.match(shp, sh1))\n",
    "print(re.match(shp, sh_m).group())"
   ]
  },
  {
   "cell_type": "markdown",
   "metadata": {
    "slideshow": {
     "slide_type": "fragment"
    }
   },
   "source": [
    "**Kleene** *"
   ]
  },
  {
   "cell_type": "code",
   "execution_count": null,
   "metadata": {
    "slideshow": {
     "slide_type": "slide"
    }
   },
   "outputs": [],
   "source": [
    "p2 = '[A-Z]'\n",
    "me = re.findall(p2, s)\n",
    "print(me)"
   ]
  },
  {
   "cell_type": "markdown",
   "metadata": {
    "slideshow": {
     "slide_type": "notes"
    }
   },
   "source": [
    "Find all matches. "
   ]
  },
  {
   "cell_type": "code",
   "execution_count": null,
   "metadata": {
    "slideshow": {
     "slide_type": "slide"
    }
   },
   "outputs": [],
   "source": [
    "p3 = 'beg.n'\n",
    "ls = ['begin', 'began', 'begun', 'begn', 'beg\\'n']\n",
    "for x in ls:\n",
    "    print(re.match(p3, x))\n"
   ]
  },
  {
   "cell_type": "code",
   "execution_count": null,
   "metadata": {
    "slideshow": {
     "slide_type": "slide"
    }
   },
   "outputs": [],
   "source": [
    "p4 = '\\w+'\n",
    "s4 = \"dunder__x?\"\n",
    "m1 = re.match(p4, s4)\n",
    "m1"
   ]
  },
  {
   "cell_type": "code",
   "execution_count": null,
   "metadata": {
    "slideshow": {
     "slide_type": "slide"
    }
   },
   "outputs": [],
   "source": [
    "pat = \"color\"\n",
    "su = \"colour\"\n",
    "st1 = \"Americans write color wheras British write colour.\"\n",
    "so = re.sub(pat, su, st1)\n",
    "so"
   ]
  },
  {
   "cell_type": "code",
   "execution_count": null,
   "metadata": {
    "slideshow": {
     "slide_type": "subslide"
    }
   },
   "outputs": [],
   "source": [
    "Simple string substitution. "
   ]
  }
 ],
 "metadata": {
  "kernelspec": {
   "display_name": "Python 3",
   "language": "python",
   "name": "python3"
  },
  "language_info": {
   "codemirror_mode": {
    "name": "ipython",
    "version": 3
   },
   "file_extension": ".py",
   "mimetype": "text/x-python",
   "name": "python",
   "nbconvert_exporter": "python",
   "pygments_lexer": "ipython3",
   "version": "3.8.5"
  }
 },
 "nbformat": 4,
 "nbformat_minor": 4
}
