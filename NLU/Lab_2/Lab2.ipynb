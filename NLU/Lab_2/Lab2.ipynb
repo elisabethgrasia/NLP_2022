{
 "cells": [
  {
   "cell_type": "markdown",
   "metadata": {},
   "source": [
    "## Some Python data structures and libraries"
   ]
  },
  {
   "cell_type": "code",
   "execution_count": null,
   "metadata": {},
   "outputs": [],
   "source": [
    "import re\n",
    "import pandas as pd"
   ]
  },
  {
   "cell_type": "code",
   "execution_count": null,
   "metadata": {},
   "outputs": [],
   "source": [
    "#extracting lines from a text file\n",
    "with open(r'D:\\Manas\\Work\\Teaching\\WSU\\NLP\\Labs\\Alice_c1.txt',encoding='UTF-8') as f:\n",
    "    ch1 = f.read()\n",
    "x = 0\n",
    "ln = \"\"\n",
    "lines_ch1 = []\n",
    "while (x < len(ch1)):\n",
    "    while (x <len(ch1) and ch1[x] != \"\\n\"):\n",
    "        ln = ln+ch1[x]\n",
    "        x+=1\n",
    "    if (ln != \"\" ):\n",
    "        ln = ln + '\\n'\n",
    "        lines_ch1.append(ln)\n",
    "        ln =\"\"\n",
    "    x+=1\n",
    "for i in range(20):\n",
    "    print(lines_ch1[i])\n",
    "print(lines_ch1[len(lines_ch1)-1])"
   ]
  },
  {
   "cell_type": "code",
   "execution_count": null,
   "metadata": {},
   "outputs": [],
   "source": [
    "with open('D:\\Manas\\Work\\Teaching\\WSU\\\\NLP\\Labs\\Alice_c1.txt',encoding='UTF-8') as f:\n",
    "    ch1_ln = f.readlines()\n",
    "x = 0\n",
    "#print(ch1_ln)\n",
    "initial_len = len(ch1_ln)\n",
    "while (x < len(ch1_ln)):\n",
    "    if ((ch1_ln[x] == \"\") or ch1_ln[x].isspace()):\n",
    "        del ch1_ln[x]\n",
    "    x+=1\n",
    "#for i in range(40,60):\n",
    "    #print(ch1_ln[i])\n",
    "print(ch1_ln[6])"
   ]
  },
  {
   "cell_type": "code",
   "execution_count": 2,
   "metadata": {},
   "outputs": [
    {
     "data": {
      "text/plain": [
       "'Ministers have confirmed that from the summer consumers will have a right to \\nrepair on goods they buy. The new rules will be estimated to reduce the 1.5 \\nmillion tonnes of electrical waste in UK.'"
      ]
     },
     "execution_count": 2,
     "metadata": {},
     "output_type": "execute_result"
    }
   ],
   "source": [
    "import re\n",
    "s = \"\"\"Ministers have confirmed that from the summer consumers will have a right to \n",
    "repair on goods they buy. The new rules will be \"estimated to reduce the 1.5\" \n",
    "million tonnes of electrical waste in UK.\"\"\"\n",
    "word_list = s.split()\n",
    "word_list1 = re.sub(\"\\\"\",'', s)\n",
    "word_list1"
   ]
  },
  {
   "cell_type": "code",
   "execution_count": null,
   "metadata": {},
   "outputs": [],
   "source": [
    "x =re.findall('[0-9]', s)\n",
    "x"
   ]
  },
  {
   "cell_type": "code",
   "execution_count": null,
   "metadata": {},
   "outputs": [],
   "source": [
    "type(x)"
   ]
  },
  {
   "cell_type": "code",
   "execution_count": null,
   "metadata": {},
   "outputs": [],
   "source": [
    "pat1 = re.compile('[0-9.,\\n]')\n",
    "pat1.sub('', s)"
   ]
  },
  {
   "cell_type": "code",
   "execution_count": null,
   "metadata": {},
   "outputs": [],
   "source": [
    "s1=re.sub('[0-9.,\\n]', '', s)\n",
    "s1"
   ]
  },
  {
   "cell_type": "code",
   "execution_count": null,
   "metadata": {},
   "outputs": [],
   "source": [
    "word_list=s1.lower().split()\n",
    "word_list.sort()\n",
    "word_list[24]\n",
    "set(word_list)"
   ]
  },
  {
   "cell_type": "code",
   "execution_count": null,
   "metadata": {},
   "outputs": [],
   "source": [
    "word_to_index = {} #empty dictionary\n",
    "for i in range(len(word_list)):\n",
    "    word_to_index.update({word_list[i]:i})\n",
    "word_to_index"
   ]
  },
  {
   "cell_type": "code",
   "execution_count": null,
   "metadata": {},
   "outputs": [],
   "source": [
    "word_to_index2={}\n",
    "word_to_index2 = {word_list[i]:i for i in range(len(word_list)) if word_list[i] not in word_to_index2}\n",
    "word_to_index2"
   ]
  },
  {
   "cell_type": "code",
   "execution_count": null,
   "metadata": {},
   "outputs": [],
   "source": [
    "word_to_index = {} #empty dictionary\n",
    "for i in range(len(word_list)):\n",
    "    if word_list[i] not in word_to_index:\n",
    "        word_to_index.update({word_list[i]:i})\n",
    "word_to_index"
   ]
  },
  {
   "cell_type": "code",
   "execution_count": null,
   "metadata": {},
   "outputs": [],
   "source": [
    "word_to_index = {} #empty dictionary\n",
    "i = 0\n",
    "j=0\n",
    "while i < len(word_list):\n",
    "    if word_list[i] not in word_to_index:\n",
    "        word_to_index.update({word_list[i]:j})\n",
    "        j+=1\n",
    "    i+=1\n",
    "word_to_index"
   ]
  },
  {
   "cell_type": "code",
   "execution_count": null,
   "metadata": {},
   "outputs": [],
   "source": [
    "word_to_index.values()"
   ]
  }
 ],
 "metadata": {
  "kernelspec": {
   "display_name": "Python 3",
   "language": "python",
   "name": "python3"
  },
  "language_info": {
   "codemirror_mode": {
    "name": "ipython",
    "version": 3
   },
   "file_extension": ".py",
   "mimetype": "text/x-python",
   "name": "python",
   "nbconvert_exporter": "python",
   "pygments_lexer": "ipython3",
   "version": "3.8.5"
  }
 },
 "nbformat": 4,
 "nbformat_minor": 4
}
