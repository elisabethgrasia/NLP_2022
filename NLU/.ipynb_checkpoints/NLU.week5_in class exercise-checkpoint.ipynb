{
 "cells": [
  {
   "cell_type": "code",
   "execution_count": 1,
   "metadata": {},
   "outputs": [
    {
     "data": {
      "text/plain": [
       "['austen-emma.txt',\n",
       " 'austen-persuasion.txt',\n",
       " 'austen-sense.txt',\n",
       " 'bible-kjv.txt',\n",
       " 'blake-poems.txt',\n",
       " 'bryant-stories.txt',\n",
       " 'burgess-busterbrown.txt',\n",
       " 'carroll-alice.txt',\n",
       " 'chesterton-ball.txt',\n",
       " 'chesterton-brown.txt',\n",
       " 'chesterton-thursday.txt',\n",
       " 'edgeworth-parents.txt',\n",
       " 'melville-moby_dick.txt',\n",
       " 'milton-paradise.txt',\n",
       " 'shakespeare-caesar.txt',\n",
       " 'shakespeare-hamlet.txt',\n",
       " 'shakespeare-macbeth.txt',\n",
       " 'whitman-leaves.txt']"
      ]
     },
     "execution_count": 1,
     "metadata": {},
     "output_type": "execute_result"
    }
   ],
   "source": [
    "import nltk\n",
    "from nltk.corpus import gutenberg\n",
    "gutenberg.fileids()"
   ]
  },
  {
   "cell_type": "code",
   "execution_count": 2,
   "metadata": {},
   "outputs": [
    {
     "data": {
      "text/plain": [
       "192427"
      ]
     },
     "execution_count": 2,
     "metadata": {},
     "output_type": "execute_result"
    }
   ],
   "source": [
    "emma = gutenberg.words('austen-emma.txt')\n",
    "len(emma)"
   ]
  },
  {
   "cell_type": "code",
   "execution_count": null,
   "metadata": {},
   "outputs": [],
   "source": [
    "emma_tokens = nltk.word_tokenize(gutenberg.raw('austen-emma.txt'))\n",
    "len(emma_tokens)"
   ]
  },
  {
   "cell_type": "code",
   "execution_count": null,
   "metadata": {},
   "outputs": [],
   "source": [
    "caeser = gutenberg.raw('shakespeare-caesar.txt')\n",
    "print(caeser[:1000])"
   ]
  },
  {
   "cell_type": "markdown",
   "metadata": {},
   "source": [
    "In the following cells you will create lists of unigrams and bigrams for the input text. "
   ]
  },
  {
   "cell_type": "code",
   "execution_count": null,
   "metadata": {},
   "outputs": [],
   "source": [
    "## extract tokens after stemming\n",
    "import string\n",
    "from nltk.stem.porter import *\n",
    "from nltk.stem.snowball import SnowballStemmer\n",
    "def tokenbuilder(txt):\n",
    "    #stem = SnowballStemmer(\"english\", ignore_stopwords=True)\n",
    "    stem = PorterStemmer( mode = 'NLTK_EXTENSIONS')\n",
    "    txt = txt.lower()\n",
    "    rmv = [\"''\", \"'\", \"'s\", \"``\", \"`\", \"--\", \"__\"]\n",
    "    ##try to complete code\n",
    "    pass"
   ]
  },
  {
   "cell_type": "code",
   "execution_count": null,
   "metadata": {},
   "outputs": [],
   "source": [
    "##create a dictionary of counts\n",
    "from collections import defaultdict\n",
    "def vectorize(txt):\n",
    "    features = defaultdict(int)\n",
    "    return features"
   ]
  },
  {
   "cell_type": "code",
   "execution_count": null,
   "metadata": {},
   "outputs": [],
   "source": [
    "emma_f = vectorize(gutenberg.raw('austen-emma.txt'))\n",
    "emma_f['life']"
   ]
  },
  {
   "cell_type": "code",
   "execution_count": null,
   "metadata": {},
   "outputs": [],
   "source": [
    "from nltk.corpus import stopwords\n",
    "stopWords = set(stopwords.words('english'))\n",
    "stopWords"
   ]
  },
  {
   "cell_type": "code",
   "execution_count": null,
   "metadata": {},
   "outputs": [],
   "source": [
    "##get rid of stopwords, if instructed (controlled by the variable stp)\n",
    "##the following function is completed, it creates list of tokens\n",
    "def tokenList(txt, stp = 0):\n",
    " #this is just to mark the beginning   \n",
    "    toke_list = [r'<b>']\n",
    "    if (stp == 0):\n",
    "        for token in tokenbuilder(txt):\n",
    "            toke_list.append(token)\n",
    "    else:\n",
    "         for token in tokenbuilder(txt):\n",
    "                if not token in stopWords:\n",
    "                    toke_list.append(token)\n",
    "    return toke_list"
   ]
  },
  {
   "cell_type": "markdown",
   "metadata": {},
   "source": [
    "\n",
    "Instead of putting everything in one dictionary modify it so that relative frequencies or probabilities are computed only if required."
   ]
  },
  {
   "cell_type": "code",
   "execution_count": null,
   "metadata": {},
   "outputs": [],
   "source": [
    "#build the unigram as a dictionary\n",
    "from collections import defaultdict\n",
    "def uniGram(txt, st = 0, rfq = 0):\n",
    "    uniGm = defaultdict(list)\n",
    "    tl = tokenList(txt, st)\n",
    "    return uniGm"
   ]
  },
  {
   "cell_type": "code",
   "execution_count": null,
   "metadata": {},
   "outputs": [],
   "source": [
    "u = uniGram('austen-emma.txt', 1, 1)\n",
    "u['life']"
   ]
  },
  {
   "cell_type": "code",
   "execution_count": null,
   "metadata": {},
   "outputs": [],
   "source": [
    "#build the bigram as a dictionary\n",
    "def biGram(txt, st = 0, rfq = 0):\n",
    "    biGm = defaultdict(list)\n",
    "    uGm = uniGram(txt, st)\n",
    "    tl = tokenList(txt, st)\n",
    "    return biGm"
   ]
  },
  {
   "cell_type": "code",
   "execution_count": null,
   "metadata": {},
   "outputs": [],
   "source": [
    "biGrm = biGram('austen-emma.txt', 0, 1)\n",
    "biGrm[('emma', 'was')]"
   ]
  },
  {
   "cell_type": "code",
   "execution_count": null,
   "metadata": {},
   "outputs": [],
   "source": []
  }
 ],
 "metadata": {
  "kernelspec": {
   "display_name": "Python 3 (ipykernel)",
   "language": "python",
   "name": "python3"
  },
  "language_info": {
   "codemirror_mode": {
    "name": "ipython",
    "version": 3
   },
   "file_extension": ".py",
   "mimetype": "text/x-python",
   "name": "python",
   "nbconvert_exporter": "python",
   "pygments_lexer": "ipython3",
   "version": "3.9.7"
  }
 },
 "nbformat": 4,
 "nbformat_minor": 4
}
