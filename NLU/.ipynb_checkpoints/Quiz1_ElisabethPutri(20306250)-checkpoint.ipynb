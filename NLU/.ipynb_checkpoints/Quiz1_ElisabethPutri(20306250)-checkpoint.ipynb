{
 "cells": [
  {
   "cell_type": "markdown",
   "metadata": {},
   "source": [
    "### Quizz 1 (NLU 22)\n",
    "\n",
    "**Time 60+10 minutes** \n",
    "\n",
    "Note: 90% marks for correctness and 10% for efficiency and elegance. "
   ]
  },
  {
   "cell_type": "markdown",
   "metadata": {},
   "source": [
    "#### Question 1   \n",
    "\n",
    "*Pig Latin* is a simple tansformation of English text. Each word of the text is transformed as follows: move any consonant (or consonant cluster) that appears at the beginning of the word to the end, then append \"ay\". (**25 = 10+10+5**)\n",
    "\n",
    "1. Complete the following functions. The first converts words to Pig Latin. \n",
    "     1. *string* -> *ingstray*\n",
    "     2. *what* -> *atwhay*"
   ]
  },
  {
   "cell_type": "code",
   "execution_count": 14,
   "metadata": {},
   "outputs": [],
   "source": [
    "## First function converts words to Pig Latin. Try to preserve case. \n",
    "import re\n",
    "\n",
    "def pigLat(word):\n",
    "    aa = re.search(r\"([^aeoiu]*)([aeoiu]*)([^aeoiu]*)([aeoiu]*)([^aeoiu]*)\", word)\n",
    "    bb = aa.group(1) \n",
    "    cc = aa.group(2) \n",
    "    dd = aa.group(3) \n",
    "    ee = aa.group(4) \n",
    "    ff = aa.group(5) \n",
    "    if ff != 5: \n",
    "        print(cc +  dd + ee + ff + bb +  \"ay\")     \n",
    "    return word"
   ]
  },
  {
   "cell_type": "code",
   "execution_count": 16,
   "metadata": {},
   "outputs": [
    {
     "name": "stdout",
     "output_type": "stream",
     "text": [
      "igPay\n"
     ]
    },
    {
     "data": {
      "text/plain": [
       "'Pig'"
      ]
     },
     "execution_count": 16,
     "metadata": {},
     "output_type": "execute_result"
    }
   ],
   "source": [
    "pigLat(\"Pig\")"
   ]
  },
  {
   "cell_type": "markdown",
   "metadata": {},
   "source": [
    "2. The second function uses the first to convert *whole texts* into Pig Latin. It should preserve capitalization. "
   ]
  },
  {
   "cell_type": "code",
   "execution_count": 20,
   "metadata": {},
   "outputs": [],
   "source": [
    "import nltk\n",
    "\n",
    "def pigLatin(txt):\n",
    "    pig_txt = \"\"\n",
    "    for aa in nltk.word_tokenize(txt):\n",
    "        pl = pigLat(aa)\n",
    "        pig_txt += pig_txt + aa\n",
    "    return pig_txt"
   ]
  },
  {
   "cell_type": "markdown",
   "metadata": {},
   "source": [
    "3. Write a couple of lines why it is more difficult converting from Pig Latin back to English. Give examples. "
   ]
  },
  {
   "cell_type": "markdown",
   "metadata": {},
   "source": [
    "It is more difficult because the word's pattern becomes more complicated. To create the piglatin word, it simply detects any consonant letter by detecting the first vocal letter that appears for the first time and move the consonant letter into the end of the word. Then, add 'ay' after that. When it comes to put it back, one of the issue is not every word in English begin with consonant. For example, \"it\" becomes 'itay' in PigLatin. The pattern to bring the word back will be more complex because once we put the consonant in front and remove the 'ay', but it will become 'ti'."
   ]
  },
  {
   "cell_type": "markdown",
   "metadata": {},
   "source": [
    "**Example.**  \n",
    "pigLatin(\"It is more difficult to decode from Pig Latin back to English becasue...\")  =  \n",
    "\"Itay isay oremay ifficultday otay ecodeday omfray Igpay Atinlay ackbay otay Englishay ecasuebay...\""
   ]
  },
  {
   "cell_type": "markdown",
   "metadata": {},
   "source": [
    "#### Question 2  \n",
    "Given the following short movie reviews, each labeled with a genre, either\n",
    "comedy or action:\n",
    "1. fun, couple, love, love : comedy\n",
    "2. fast, furious, shoot :action\n",
    "3. couple, fly, fast, fun, fun :comedy\n",
    "4. furious, shoot, shoot, fun :action\n",
    "5. fly, fast, shoot, love, run :action \n",
    "6. family, laugh, run, love  :comedy\n",
    "7. fast, run, shoot, love, fast : action \n",
    "\n",
    "Consider two new documents D1 and D2:\n",
    "1. D1: fast, couple, shoot, fly\n",
    "2. D2: family, fun, love, fast \n",
    "\n",
    "Compute the most likely class for D1 and D2. Assume a naive Bayes classifier and use\n",
    "add-1 smoothing for the likelihoods. \n",
    "\n",
    "1. You should first build the vocabulary V. \n",
    "2. For each word *w* in the V find the probability *P*(*w* | comedy), the probability that the word *w* occurs in a comedy. You should use add-1 smoothing. \n",
    "3. Now use Naive Bayes classifier to decide what classes we put D1 and D2 into. \n",
    "\n",
    "**25**  "
   ]
  },
  {
   "cell_type": "markdown",
   "metadata": {},
   "source": [
    "*Your answer to Q2.*"
   ]
  },
  {
   "cell_type": "markdown",
   "metadata": {},
   "source": [
    "###### 1. you should first build the vocabulary V\n",
    "\n",
    "V = fast, couple, shoot, fly, family, fun, love\n"
   ]
  },
  {
   "cell_type": "markdown",
   "metadata": {},
   "source": [
    "###### 2. for each word w in the V find the probability P(w|comedy) add-1 smoothing. (considered not to remove any words)\n",
    "\n",
    "    #1. fun, couple, love, love : comedy\n",
    "    #3. couple, fly, fast, fun, fun :comedy\n",
    "    #6. family, laugh, run, love  :comedy\n",
    "\n",
    "P(fast|comedy) = (1+1)/(13+8) = 2/21 = 0.1\n",
    "\n",
    "P(couple|comedy) = (2+1)/(13+8) = 3/21 = 0.14\n",
    "\n",
    "P(shoot|comedy) = (1)/(13+8) = 0.05  \n",
    "\n",
    "P(fly|comedy) = (1+1)/(13+8) = 2/21 = 0.1 \n",
    "\n",
    "P(family|comedy) = (1+1)/(13+8) = 2/21 = 0.1 \n",
    "\n",
    "P(fun|comedy) = (3+1)/(13+8) = 4/21 = 0.2 \n",
    "\n",
    "P(love|comedy) = (3+1)/(13+8) = 4/21 = 0.2 "
   ]
  },
  {
   "cell_type": "markdown",
   "metadata": {},
   "source": [
    "###### 3. Deciding D1 and D2 class\n",
    "P(D1|comedy) = P(fast|comedy)P(couple|comedy)P(shoot|comedy)P(fly|comedy)\n",
    "             = 0.1 x 0.14 x 0.05 x 0.1\n",
    "             = 0.00007\n",
    "\n",
    "P(D2|comedy) = P(family|comedy)P(fun|comedy)P(love|comedy)P(fast|comedy)\n",
    "             = 0.1 x 0.2 x 0.2 x 0.1\n",
    "             = 0.0004\n",
    "             \n",
    "From the probability calculation above, we can see that D2 has the higher probability than D2. Therefore, D2's class is comedy."
   ]
  }
 ],
 "metadata": {
  "kernelspec": {
   "display_name": "Python 3 (ipykernel)",
   "language": "python",
   "name": "python3"
  },
  "language_info": {
   "codemirror_mode": {
    "name": "ipython",
    "version": 3
   },
   "file_extension": ".py",
   "mimetype": "text/x-python",
   "name": "python",
   "nbconvert_exporter": "python",
   "pygments_lexer": "ipython3",
   "version": "3.9.7"
  }
 },
 "nbformat": 4,
 "nbformat_minor": 4
}
