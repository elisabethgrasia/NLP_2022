{
 "cells": [
  {
   "cell_type": "markdown",
   "metadata": {},
   "source": [
    "# NLU21 Lab Exercise 2"
   ]
  },
  {
   "cell_type": "markdown",
   "metadata": {},
   "source": [
    "$ \\def\\euro{\\unicode{x20AC}} $\n",
    "$ \\def\\yen{\\unicode{x00A5}}  $\n",
    "$ \\def\\pound{\\unicode{x00A3}} $\n",
    "$ \\def\\dollar{\\unicode{x024}} $\n",
    "\n",
    "Q1. Write regular expressions for the following languages.\n",
    "\n",
    "1. the set of all alphanumeric strings;\n",
    "2. the set of all upper case alphabetic strings ending in a 'q';\n",
    "3. the set of all strings from the alphabet {a, b} such that each 'b' is immediately preceded by and immediately followed by a 'a'; examples: aba, aababaaa. \n",
    "4. All strings which denote a price in dollars (\\\\$) or euros ($\\euro$). For example: \\\\$10, \\\\$50., \\\\$22.5 and $\\euro$35,67.   "
   ]
  },
  {
   "cell_type": "code",
   "execution_count": 7,
   "metadata": {},
   "outputs": [
    {
     "name": "stdout",
     "output_type": "stream",
     "text": [
      "€100\n"
     ]
    }
   ],
   "source": [
    "## Example\n",
    "import re\n",
    "#The unicode for euro symbol is \"20AC\". \n",
    "print(\"\\u20AC100\")\n",
    "## for example, re.findall(pat_cur, \"$100 = \\u20AC90,16 and $500.50 = \\u20AC450,98 \") \n",
    "##yields ['$100', '€90,16', '$500.50', '€450,98'] (pat_cur is the search pattern)"
   ]
  },
  {
   "cell_type": "code",
   "execution_count": null,
   "metadata": {},
   "outputs": [],
   "source": [
    "# 1. the set of all alphanumeric strings\n",
    "/[A-Za-z0-9_]/"
   ]
  },
  {
   "cell_type": "code",
   "execution_count": null,
   "metadata": {},
   "outputs": [],
   "source": [
    "# 2. the set of all upper case alphabetic strings ending in a 'q'.\n",
    "/[A-Z*[qQ]]/"
   ]
  },
  {
   "cell_type": "code",
   "execution_count": 6,
   "metadata": {},
   "outputs": [],
   "source": [
    "# 3. the set of all strings from the alphabet {a, b} such that \n",
    "#    each 'b' is immediately preceded by and immediately followed by a 'a'; examples: aba, aababaaa\n",
    "/[[aA]+ba+]/"
   ]
  },
  {
   "cell_type": "code",
   "execution_count": null,
   "metadata": {},
   "outputs": [],
   "source": [
    "# 4. All strings which denote a price in dollars ($) or euros (€). For example: $10, $50., $22.5 and €35,67.\n",
    "/(ˆ|\\W)$[0-9]+(\\.[0-9][0-9])?\\b/"
   ]
  },
  {
   "cell_type": "markdown",
   "metadata": {},
   "source": [
    "Q2. *Pig Latin* is a simple transformation of English text. Each word of the text is transformed as follows: move any consonant (or consonant cluster) that appears at the beginning of the word to the end, then append \"ay\". \n",
    "\n",
    "1. Write a function to convert a word to Pig Latin. \n",
    "\n",
    "    1. *string* -> *ingstray*\n",
    "    2. *what* -> *atwhay*"
   ]
  },
  {
   "cell_type": "code",
   "execution_count": 2,
   "metadata": {},
   "outputs": [],
   "source": [
    "import re\n",
    "\n",
    "def const(words):\n",
    "    aa = re.search(r\"([^aeoiu]*)([aeoiu]*)([^aeoiu]*)([aeoiu]*)([^aeoiu]*)\", words)\n",
    "    bb = aa.group(1) \n",
    "    cc = aa.group(2) \n",
    "    dd = aa.group(3) \n",
    "    ee = aa.group(4) \n",
    "    ff = aa.group(5) \n",
    "\n",
    "    if ff != 5: \n",
    "        print(cc +  dd + ee + ff + bb +  \"ay\")\n",
    "        "
   ]
  },
  {
   "cell_type": "code",
   "execution_count": 3,
   "metadata": {},
   "outputs": [
    {
     "name": "stdout",
     "output_type": "stream",
     "text": [
      "eatgray\n"
     ]
    }
   ],
   "source": [
    "const(\"great\")"
   ]
  },
  {
   "cell_type": "code",
   "execution_count": 6,
   "metadata": {},
   "outputs": [],
   "source": [
    "# 2. Write code that converts text not just words. It should preserve capitalization. \n",
    "#import string\n",
    "#from nltk.stem.porter import *\n",
    "\n",
    "def consttxt(text):\n",
    "    txtsplit = text.split()\n",
    "    for aa in txtsplit:\n",
    "        abc = const(aa)\n",
    "    print(abc)"
   ]
  },
  {
   "cell_type": "code",
   "execution_count": 8,
   "metadata": {},
   "outputs": [
    {
     "name": "stdout",
     "output_type": "stream",
     "text": [
      "artsPay\n",
      "ofay\n",
      "orthernnay\n",
      "NSWay\n",
      "evastday\n",
      "byay\n",
      "oodsflay\n",
      "ustjay\n",
      "eeksway\n",
      "agoay\n",
      "avehay\n",
      "eenbay\n",
      "arnedway\n",
      "ofay\n",
      "oremay\n",
      "ormsstay\n",
      "anday\n",
      "ainray\n",
      "ichwhay\n",
      "ouldcay\n",
      "eesay\n",
      "ashflay\n",
      "oodingflay\n",
      "ithay\n",
      "areay\n",
      "onay\n",
      "ethay\n",
      "ay.way\n",
      "eThay\n",
      "ureauBay\n",
      "ofay\n",
      "eteorMay\n",
      "ashay\n",
      "orecfay\n",
      "idesprway\n",
      "ainray\n",
      "acrossay\n",
      "ortheastnay\n",
      "NSWay\n",
      "includay\n",
      "ethay\n",
      "orthernNay\n",
      "iversRay\n",
      "&ay\n",
      "idMay\n",
      "orthNay\n",
      "oast,Cay\n",
      "omfray\n",
      "omorrtay\n",
      "etway\n",
      "eatherway\n",
      "aymay\n",
      "extenday\n",
      "urtherfay\n",
      "outhsay\n",
      "asay\n",
      "ethay\n",
      "eekway\n",
      "oesgay\n",
      "on.ay\n",
      "None\n"
     ]
    }
   ],
   "source": [
    "a = \"Parts of northern NSW devastated by floods just weeks ago have been warned of more storms and rain which could see flash flooding hit are on the way. The Bureau of Meteorology has forecast widespread rain across northeast NSW including the Northern Rivers & Mid North Coast, from tomorrow.The wet weather may extend further south as the week goes on.\"\n",
    "\n",
    "\n",
    "consttxt(a)"
   ]
  },
  {
   "cell_type": "markdown",
   "metadata": {},
   "source": [
    "Q3. Write a function that searches through a document and lists all valid email addresses. See  \n",
    "\n",
    "https://en.wikipedia.org/wiki/Email_address\n",
    "\n",
    "However, we will simplify the standards a bit. \n",
    "\n",
    "The format of an email address is local-part@domain.\n",
    "\n",
    "\n",
    "**Local-part**     \n",
    "The local-part of the email address may be unquoted or may be enclosed in quotation marks.\n",
    "If unquoted, it may use any of these ASCII characters:  \n",
    "1. uppercase and lowercase Latin letters A to Z and a to z  \n",
    "2. digits 0 to 9     \n",
    "3. printable characters !#\\\\$%&'*+-/=?^_`{|}~        \n",
    "4. dot ., provided that it is not the first or last character and provided also that it does not appear consecutively (e.g., John..Doe@example.com is not allowed).   "
   ]
  },
  {
   "cell_type": "markdown",
   "metadata": {},
   "source": [
    "**Domain**   \n",
    "The domain name part of an email address has to conform to strict guidelines: it must match the requirements for a hostname, a list of dot-separated DNS labels, each label being limited to a length of 63 characters and consisting of:[5]:    \n",
    "\n",
    "- uppercase and lowercase Latin letters A to Z and a to z;   \n",
    "- digits 0 to 9, provided that top-level domain names (last part of the address \".com\", \".au\") are not all-numeric;  \n",
    "- hyphen -, provided that it is not the first or last character.   "
   ]
  },
  {
   "cell_type": "code",
   "execution_count": 10,
   "metadata": {},
   "outputs": [],
   "source": [
    "import re\n",
    "\n",
    "def validationemail(inputemail):\n",
    "    pat = \"[^\\.][a-zA-Z0-9_]+[!#$%&'\\*\\+-/=\\?\\^`{}\\|~]?@[a-zA-Z0-9]+\\.(com|.au)\"\n",
    "    #inputemail = input()\n",
    "    if (re.search(pat, inputemail)):\n",
    "        print(\"valid email\")\n",
    "    else:\n",
    "        print(\"invalid email\")"
   ]
  },
  {
   "cell_type": "code",
   "execution_count": 11,
   "metadata": {},
   "outputs": [
    {
     "name": "stdout",
     "output_type": "stream",
     "text": [
      "valid email\n"
     ]
    }
   ],
   "source": [
    "validationemail(\"moisabeth@g.com\")"
   ]
  }
 ],
 "metadata": {
  "kernelspec": {
   "display_name": "Python 3 (ipykernel)",
   "language": "python",
   "name": "python3"
  },
  "language_info": {
   "codemirror_mode": {
    "name": "ipython",
    "version": 3
   },
   "file_extension": ".py",
   "mimetype": "text/x-python",
   "name": "python",
   "nbconvert_exporter": "python",
   "pygments_lexer": "ipython3",
   "version": "3.9.7"
  }
 },
 "nbformat": 4,
 "nbformat_minor": 4
}
