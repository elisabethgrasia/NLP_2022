{
 "cells": [
  {
   "cell_type": "markdown",
   "metadata": {},
   "source": [
    "### Quizz 1 (NLU 22)\n",
    "\n",
    "**Time 60+10 minutes** \n",
    "\n",
    "Note: 90% marks for correctness and 10% for efficiency and elegance. "
   ]
  },
  {
   "cell_type": "markdown",
   "metadata": {},
   "source": [
    "#### Question 1   \n",
    "\n",
    "*Pig Latin* is a simple tansformation of English text. Each word of the text is transformed as follows: move any consonant (or consonant cluster) that appears at the beginning of the word to the end, then append \"ay\". (**25 = 10+10+5**)\n",
    "\n",
    "1. Complete the following functions. The first converts words to Pig Latin. \n",
    "     1. *string* -> *ingstray*\n",
    "     2. *what* -> *atwhay*\n",
    "\n",
    "2. The second function uses the first to convert *whole texts* into Pig Latin. It should preserve capitalization. \n",
    "3. Write a couple of lines why it is more difficult converting from Pig Latin back to English. Give examples. "
   ]
  },
  {
   "cell_type": "code",
   "execution_count": null,
   "metadata": {},
   "outputs": [],
   "source": [
    "## First function converts words to Pig Latin. Try to preserve case. \n",
    "def pigLat(word):\n",
    "    pass\n",
    "    aa = re.search(r\"([^aeoiu]*)([aeoiu]*)([^aeoiu]*)([aeoiu]*)([^aeoiu]*)\", words)\n",
    "    bb = aa.group(1) \n",
    "    cc = aa.group(2) \n",
    "    dd = aa.group(3) \n",
    "    ee = aa.group(4) \n",
    "    ff = aa.group(5) \n",
    "\n",
    "    if ff != 5: \n",
    "        print(cc +  dd + ee + ff + bb +  \"ay\")\n",
    "        \n",
    "    return word"
   ]
  },
  {
   "cell_type": "code",
   "execution_count": null,
   "metadata": {},
   "outputs": [],
   "source": [
    "def pigLatin(txt):\n",
    "    pig_txt = \"\"\n",
    "    pass \n",
    "## Your code. The string pig_txt is the converted Pig Latin text.  \n",
    "    return pig_txt"
   ]
  },
  {
   "cell_type": "markdown",
   "metadata": {},
   "source": [
    "**Example.**  \n",
    "pigLatin(\"It is more difficult to decode from Pig Latin back to English becasue...\")  =  \n",
    "\"Itay isay oremay ifficultday otay ecodeday omfray Igpay Atinlay ackbay otay Englishay ecasuebay...\""
   ]
  },
  {
   "cell_type": "markdown",
   "metadata": {},
   "source": [
    "#### Question 2  \n",
    "Given the following short movie reviews, each labeled with a genre, either\n",
    "comedy or action:\n",
    "1. fun, couple, love, love : comedy\n",
    "2. fast, furious, shoot :action\n",
    "3. couple, fly, fast, fun, fun :comedy\n",
    "4. furious, shoot, shoot, fun :action\n",
    "5. fly, fast, shoot, love, run :action \n",
    "6. family, laugh, run, love  :comedy\n",
    "7. fast, run, shoot, love, fast : action \n",
    "\n",
    "Consider two new documents D1 and D2:\n",
    "1. D1: fast, couple, shoot, fly\n",
    "2. D2: family, fun, love, fast \n",
    "\n",
    "Compute the most likely class for D1 and D2. Assume a naive Bayes classifier and use\n",
    "add-1 smoothing for the likelihoods. \n",
    "\n",
    "1. You should first build the vocabulary V. \n",
    "2. For each word *w* in the V find the probability *P*(*w* | comedy), the probability that the word *w* occurs in a comedy. You should use add-1 smoothing. \n",
    "3. Now use Naive Bayes classifier to decide what classes we put D1 and D2 into. \n",
    "\n",
    "**25**  "
   ]
  },
  {
   "cell_type": "markdown",
   "metadata": {},
   "source": [
    "*Your answer to Q2.*"
   ]
  },
  {
   "cell_type": "code",
   "execution_count": null,
   "metadata": {},
   "outputs": [],
   "source": []
  }
 ],
 "metadata": {
  "kernelspec": {
   "display_name": "Python 3 (ipykernel)",
   "language": "python",
   "name": "python3"
  },
  "language_info": {
   "codemirror_mode": {
    "name": "ipython",
    "version": 3
   },
   "file_extension": ".py",
   "mimetype": "text/x-python",
   "name": "python",
   "nbconvert_exporter": "python",
   "pygments_lexer": "ipython3",
   "version": "3.9.7"
  }
 },
 "nbformat": 4,
 "nbformat_minor": 4
}
