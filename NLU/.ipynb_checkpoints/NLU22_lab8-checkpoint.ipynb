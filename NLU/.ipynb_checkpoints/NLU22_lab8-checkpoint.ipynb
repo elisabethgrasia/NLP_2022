{
 "cells": [
  {
   "cell_type": "markdown",
   "id": "3c07edf3",
   "metadata": {},
   "source": [
    "#### Vectors and Matrices"
   ]
  },
  {
   "cell_type": "code",
   "execution_count": 1,
   "id": "52f537cb",
   "metadata": {},
   "outputs": [],
   "source": [
    "import numpy as np\n",
    "import scipy as sp\n",
    "import pandas as pd\n",
    "import nltk"
   ]
  },
  {
   "cell_type": "code",
   "execution_count": 22,
   "id": "e135eb3d",
   "metadata": {},
   "outputs": [
    {
     "data": {
      "text/plain": [
       "array([], shape=(4, 0), dtype=float64)"
      ]
     },
     "execution_count": 22,
     "metadata": {},
     "output_type": "execute_result"
    }
   ],
   "source": [
    "id4 = np.identity(4, dtype='float32')\n",
    "emp = np.empty((4, 0))\n",
    "emp"
   ]
  },
  {
   "cell_type": "markdown",
   "id": "cf9a27ff",
   "metadata": {},
   "source": [
    "$$ \n",
    "A = \\begin{pmatrix}\n",
    "1 & -1 & 2 & 0 \\\\\n",
    "-2 & 0 & 3 & 1 \\\\\n",
    "-1 & 2 & 0 & 3\n",
    "\\end{pmatrix}\n",
    "$$\n",
    "\n",
    "Write $A$ as a numpy array. Consider the column vector $X = (2, -1, -2, 3)^T$ ('T\" stands for transpose). What is the product $AX$. "
   ]
  },
  {
   "cell_type": "code",
   "execution_count": 18,
   "id": "95d79aa7",
   "metadata": {},
   "outputs": [
    {
     "ename": "ValueError",
     "evalue": "operands could not be broadcast together with shapes (3,4) (4,1) ",
     "output_type": "error",
     "traceback": [
      "\u001b[1;31m---------------------------------------------------------------------------\u001b[0m",
      "\u001b[1;31mValueError\u001b[0m                                Traceback (most recent call last)",
      "\u001b[1;32m~\\AppData\\Local\\Temp/ipykernel_32652/2890741427.py\u001b[0m in \u001b[0;36m<module>\u001b[1;34m\u001b[0m\n\u001b[0;32m      4\u001b[0m \u001b[0mXtranspose\u001b[0m \u001b[1;33m=\u001b[0m \u001b[0mx\u001b[0m\u001b[1;33m.\u001b[0m\u001b[0mT\u001b[0m\u001b[1;33m\u001b[0m\u001b[1;33m\u001b[0m\u001b[0m\n\u001b[0;32m      5\u001b[0m \u001b[1;33m\u001b[0m\u001b[0m\n\u001b[1;32m----> 6\u001b[1;33m \u001b[0mA\u001b[0m\u001b[1;33m*\u001b[0m\u001b[0mXtranspose\u001b[0m\u001b[1;33m\u001b[0m\u001b[1;33m\u001b[0m\u001b[0m\n\u001b[0m",
      "\u001b[1;31mValueError\u001b[0m: operands could not be broadcast together with shapes (3,4) (4,1) "
     ]
    }
   ],
   "source": [
    "A = np.array([[1,-1,2,0], [-2, 0, 3, 1], [-1, 2, 0, 3]])\n",
    "\n",
    "x = np.array([[2, -1, -2, 3]])\n",
    "Xtranspose = x.T\n",
    "\n",
    "A*Xtranspose"
   ]
  }
 ],
 "metadata": {
  "kernelspec": {
   "display_name": "Python 3 (ipykernel)",
   "language": "python",
   "name": "python3"
  },
  "language_info": {
   "codemirror_mode": {
    "name": "ipython",
    "version": 3
   },
   "file_extension": ".py",
   "mimetype": "text/x-python",
   "name": "python",
   "nbconvert_exporter": "python",
   "pygments_lexer": "ipython3",
   "version": "3.9.7"
  }
 },
 "nbformat": 4,
 "nbformat_minor": 5
}
