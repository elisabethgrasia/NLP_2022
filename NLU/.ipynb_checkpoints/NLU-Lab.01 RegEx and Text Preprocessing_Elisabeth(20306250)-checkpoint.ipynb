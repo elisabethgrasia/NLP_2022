{
 "cells": [
  {
   "cell_type": "markdown",
   "metadata": {},
   "source": [
    "### NLU22 Lab Exercise 1"
   ]
  },
  {
   "cell_type": "markdown",
   "metadata": {},
   "source": [
    "### Task 1  \n",
    "\n",
    "In this exercise you will work through some very useful data structures in Python: **lists**, **tuples** and **dictionaries**. \n",
    "\n",
    "Copy the file \"Australian_states_population.csv\".  There are 3 columns \"State\", \"Population...\", \"Change...\". "
   ]
  },
  {
   "cell_type": "code",
   "execution_count": 2,
   "metadata": {},
   "outputs": [
    {
     "name": "stdout",
     "output_type": "stream",
     "text": [
      "{'State': {0: 'New South Wales', 1: 'Victoria', 2: 'Queensland', 3: 'South Australia', 4: 'Western Australia', 5: 'Tasmania', 6: 'Northern Territory', 7: 'Australian Capital Territory'}, \"Population at 30 Jun 2021 ('000)\": {0: 8189.3, 1: 6649.2, 2: 5221.2, 3: 1773.2, 4: 2681.6, 5: 541.5, 6: 246.3, 7: 432.3}, \"Change over previous year ('000)\": {0: 22.2, 1: -44.7, 2: 45.9, 3: 3.0, 4: 17.4, 5: 0.9, 6: 0.1, 7: 1.1}, 'Change over previous year (%)': {0: 0.3, 1: -0.7, 2: 0.9, 3: 0.2, 4: 0.7, 5: 0.2, 6: 0.0, 7: 0.2}}\n"
     ]
    }
   ],
   "source": [
    "import pandas as pd\n",
    "Aupop = pd.read_csv('Australian_states_population2.csv', nrows=8).to_dict()\n",
    "print(Aupop)"
   ]
  },
  {
   "cell_type": "markdown",
   "metadata": {},
   "source": [
    "In Python a **dictionary** is arranged as key value pair. The keys can be any *immutable* object. For example, integers, strings, tuples but not lists. A dictionary is similar to a \"hashmap\" in Java. The values in a dictionary cane be any type of objects.  \n",
    "A dictionary is similar to a many-to-one mapping or function. "
   ]
  },
  {
   "cell_type": "code",
   "execution_count": 3,
   "metadata": {},
   "outputs": [],
   "source": [
    "# Slicing the Aupop data into several dictionaries\n",
    "\n",
    "Audict1 = Aupop['State']"
   ]
  },
  {
   "cell_type": "code",
   "execution_count": 4,
   "metadata": {},
   "outputs": [],
   "source": [
    "#Examples\n",
    "dict1 = {'a':1, 'b':2, 'c':3, 'd':4}\n",
    "dict2 = {1:'a', 2:'b', 3:'c', 4:'d'}\n",
    "dict3 = {\"Australia\": \"Oceania\", \"India\":\"Asia\", \"UK\":\"Europe\", \"Georgia\":(\"Asia\", \"Europe\"), \n",
    "         \"China\":\"Asia\"}"
   ]
  },
  {
   "cell_type": "code",
   "execution_count": 6,
   "metadata": {},
   "outputs": [
    {
     "data": {
      "text/plain": [
       "(2, ('Asia', 'Europe'))"
      ]
     },
     "execution_count": 6,
     "metadata": {},
     "output_type": "execute_result"
    }
   ],
   "source": [
    "dict1['b'], dict3[\"Georgia\"]"
   ]
  },
  {
   "cell_type": "code",
   "execution_count": 3,
   "metadata": {},
   "outputs": [
    {
     "data": {
      "text/plain": [
       "dict_keys([1, 2, 3, 4])"
      ]
     },
     "execution_count": 3,
     "metadata": {},
     "output_type": "execute_result"
    }
   ],
   "source": [
    "dict2.keys()"
   ]
  },
  {
   "cell_type": "code",
   "execution_count": 65,
   "metadata": {},
   "outputs": [],
   "source": [
    "##The following you will output two dictionaries. \n",
    "##The first will have keys as the name of the state, \"Victoria\", \"New South Wales\" etc. \n",
    "##and values the corresponding abbreviation Victoria:Vic, Tasmania:Tas etc. The second dictionary \n",
    "##is the \"reverse map\" from abbreviations to state names,e.g.,  NSW: New South Wales.  \n",
    "\n",
    "def state_abbrev():\n",
    "    states = list(Audict1.values()) #state list\n",
    "    abbr = ['NSW', 'Vic', 'QLD', 'SA', 'WA', 'Tas', 'NT', 'ACT'] #abbreviation list\n",
    "    st_abr = {} #empty dictionary\n",
    "    abr_st = {}\n",
    "    ##Your code here. Create and output 2 dictionaries \"st_abr\" and \"abr_st\". You should use a \n",
    "    ##for loop to iterate through the above lists. \n",
    "    st_abr = dict(zip(states, abbr))\n",
    "    abr_st = {v:k for k, v in st_abr.items()}\n",
    "    return st_abr, abr_st"
   ]
  },
  {
   "cell_type": "code",
   "execution_count": 104,
   "metadata": {},
   "outputs": [
    {
     "data": {
      "text/plain": [
       "'NSW'"
      ]
     },
     "execution_count": 104,
     "metadata": {},
     "output_type": "execute_result"
    }
   ],
   "source": [
    "st_abr['New South Wales']\n"
   ]
  },
  {
   "cell_type": "code",
   "execution_count": 92,
   "metadata": {},
   "outputs": [],
   "source": [
    "Aupop1 = pd.read_csv('Australian_states_population2.csv', nrows=8)\n",
    "change = list(Aupop1.iloc[:,3])\n",
    "pop = list(Aupop1.iloc[:,1])\n",
    "astup= [(pop[i], change[i]) for i in range(8)]"
   ]
  },
  {
   "cell_type": "code",
   "execution_count": 107,
   "metadata": {},
   "outputs": [],
   "source": [
    "##The following function takes as input the full name of a state and \n",
    "## outputs a the percentage of population change. First, crate a dictionary \"state_ppln\"  \n",
    "##that has keys as state abbreviation and values are pairs: (population, change) \n",
    "##from the accompanying file. For example, \n",
    "## Vic: (6649.2, -44.7) (see the table). \n",
    "\n",
    "def state_popln(state_name): \n",
    "    change = 0 \n",
    "     ##Your code. st_ppln is a dictionary you create. Call the previous function. \n",
    "    Aupop1 = pd.read_csv('Australian_states_population2.csv', nrows=8)\n",
    "    change = list(Aupop1.iloc[:,3])\n",
    "    pop = list(Aupop1.iloc[:,1])\n",
    "    astup= [(pop[i], change[i]) for i in range(8)]\n",
    "    a,b= state_abbrev()\n",
    "    abv_state = a[state_name]\n",
    "    state_ppln = dict(zip(b.keys(), astup))\n",
    "    out_tuple = state_ppln[abv_state]\n",
    "    return out_tuple[1]"
   ]
  },
  {
   "cell_type": "code",
   "execution_count": 109,
   "metadata": {},
   "outputs": [
    {
     "data": {
      "text/plain": [
       "-0.7"
      ]
     },
     "execution_count": 109,
     "metadata": {},
     "output_type": "execute_result"
    }
   ],
   "source": [
    "state_popln('Victoria')"
   ]
  },
  {
   "cell_type": "markdown",
   "metadata": {},
   "source": [
    "Some sample outputs.  \n",
    "\n",
    "st_abr[\"South Australia\"], \"SA\"   \n",
    "abr_st[\"Tas\"], \"Tasmania\"  \n",
    "state_popln('Victoria'), -0.7  \n",
    "st_ppln[\"NSW\"], (8189.3, 22.2) \n"
   ]
  },
  {
   "cell_type": "markdown",
   "metadata": {},
   "source": [
    "### Task 2\n",
    "\n",
    "You are provided with a text file. You will do some basic text processing.  \n",
    "\n",
    "Write a function that gives the following outputs. \n",
    "\n",
    "1. Ratio of the alphanumeric characters to the number of non-alphanumeric characters that are not whitespace characters. \n",
    "\n",
    "2. Number of *articles* in the text. \n",
    "\n",
    "3. Number of words of length at least 4. \n",
    "\n",
    "4. The five most frequently occuring letters and their frequency counts. Ignore case. \n",
    "\n",
    "**Hint.** You should try using regex. The built in function **str.split()** may be useful. "
   ]
  },
  {
   "cell_type": "code",
   "execution_count": 143,
   "metadata": {
    "scrolled": true
   },
   "outputs": [
    {
     "name": "stdout",
     "output_type": "stream",
     "text": [
      "8631\n",
      "505\n",
      "17.09108910891089\n"
     ]
    }
   ],
   "source": [
    "import re\n",
    "\n",
    "p = r\"textfile_Alice(1)\"\n",
    "with open(p, encoding = 'UTF-8') as f:\n",
    "    ch1 = f.read()\n",
    "    abc=str.split(ch1) \n",
    "    "
   ]
  },
  {
   "cell_type": "markdown",
   "metadata": {},
   "source": [
    "1. Ratio of the alphanumeric characters to the number of non-alphanumeric characters that are not whitespace characters. "
   ]
  },
  {
   "cell_type": "code",
   "execution_count": 142,
   "metadata": {},
   "outputs": [],
   "source": [
    "def ratio():\n",
    "    alpha_count = 0\n",
    "    non_alpha_count = 0\n",
    "    for word in abc:\n",
    "        for char in word:\n",
    "            if char.isspace():\n",
    "                pass\n",
    "            elif char.isalpha():\n",
    "                alpha_count +=1\n",
    "            else:\n",
    "                non_alpha_count+=1\n",
    "    ratio = alpha_count/non_alpha_count\n",
    "    print(ratio)   "
   ]
  },
  {
   "cell_type": "markdown",
   "metadata": {},
   "source": [
    "2. Number of articles in the text."
   ]
  },
  {
   "cell_type": "code",
   "execution_count": 161,
   "metadata": {},
   "outputs": [],
   "source": [
    "def num_art():\n",
    "    cc = 0\n",
    "    for a in abc:\n",
    "        if a.lower() == 'the':\n",
    "            cc += 1\n",
    "        elif a.lower() == 'a':\n",
    "            cc += 1\n",
    "        elif a.lower() == 'an':\n",
    "            cc += 1\n",
    "        else: \n",
    "            pass\n",
    "    print(cc)"
   ]
  },
  {
   "cell_type": "markdown",
   "metadata": {},
   "source": [
    "3. Number of words of length at least 4. "
   ]
  },
  {
   "cell_type": "code",
   "execution_count": 172,
   "metadata": {},
   "outputs": [],
   "source": [
    "def word4():\n",
    "    dd = 0\n",
    "    for a in abc:\n",
    "        if len(a) >= 4:\n",
    "            dd += 1\n",
    "        else:\n",
    "            pass\n",
    "    print(dd)"
   ]
  },
  {
   "cell_type": "markdown",
   "metadata": {},
   "source": [
    "4. The five most frequently occuring letters and their frequency counts. Ignore case. "
   ]
  },
  {
   "cell_type": "code",
   "execution_count": 177,
   "metadata": {},
   "outputs": [],
   "source": [
    "from collections import Counter\n",
    "\n",
    "def freq():\n",
    "    cc = Counter(abc)\n",
    "    topfive = Counter.most_common(5)\n",
    "    print(most_occur)"
   ]
  }
 ],
 "metadata": {
  "kernelspec": {
   "display_name": "Python 3 (ipykernel)",
   "language": "python",
   "name": "python3"
  },
  "language_info": {
   "codemirror_mode": {
    "name": "ipython",
    "version": 3
   },
   "file_extension": ".py",
   "mimetype": "text/x-python",
   "name": "python",
   "nbconvert_exporter": "python",
   "pygments_lexer": "ipython3",
   "version": "3.9.7"
  }
 },
 "nbformat": 4,
 "nbformat_minor": 4
}
