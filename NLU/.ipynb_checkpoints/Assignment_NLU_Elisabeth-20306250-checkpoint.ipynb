{
 "cells": [
  {
   "cell_type": "markdown",
   "id": "186ef73f",
   "metadata": {},
   "source": [
    "## Assignment Natural Language Understanding\n",
    "\n",
    "Elisabeth Putri - 20306250"
   ]
  },
  {
   "cell_type": "markdown",
   "id": "49d882ff",
   "metadata": {},
   "source": [
    "##### Sentiment analysis using logistic regression\n",
    "\n",
    "Train a binary classifier for classifying movie reviews from IMDB database. The task is to classify them as positive or\n",
    "negative."
   ]
  },
  {
   "cell_type": "code",
   "execution_count": null,
   "id": "73a57cbc",
   "metadata": {},
   "outputs": [],
   "source": [
    "# Loading the text files\n"
   ]
  },
  {
   "cell_type": "code",
   "execution_count": 1,
   "id": "8eacf9e3",
   "metadata": {},
   "outputs": [],
   "source": [
    "# Get rid of punctuation but keep the spaces, be careful with the stopwords\n"
   ]
  },
  {
   "cell_type": "code",
   "execution_count": null,
   "id": "d72814ee",
   "metadata": {},
   "outputs": [],
   "source": [
    "# map each document into a vector\n"
   ]
  },
  {
   "cell_type": "code",
   "execution_count": null,
   "id": "1851486a",
   "metadata": {},
   "outputs": [],
   "source": [
    "# creating tf/idf\n"
   ]
  },
  {
   "cell_type": "code",
   "execution_count": null,
   "id": "0e932a5e",
   "metadata": {},
   "outputs": [],
   "source": [
    "# logistic regression to the training set to fix the weights. Use sklearn logistic regression from linear models.\n"
   ]
  },
  {
   "cell_type": "code",
   "execution_count": null,
   "id": "cf36ecac",
   "metadata": {},
   "outputs": [],
   "source": [
    "# test the model, report accuracy, reacll and precision\n"
   ]
  }
 ],
 "metadata": {
  "kernelspec": {
   "display_name": "Python 3 (ipykernel)",
   "language": "python",
   "name": "python3"
  },
  "language_info": {
   "codemirror_mode": {
    "name": "ipython",
    "version": 3
   },
   "file_extension": ".py",
   "mimetype": "text/x-python",
   "name": "python",
   "nbconvert_exporter": "python",
   "pygments_lexer": "ipython3",
   "version": "3.9.7"
  }
 },
 "nbformat": 4,
 "nbformat_minor": 5
}
