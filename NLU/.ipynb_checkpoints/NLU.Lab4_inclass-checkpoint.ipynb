{
 "cells": [
  {
   "cell_type": "code",
   "execution_count": 21,
   "id": "018e965d",
   "metadata": {},
   "outputs": [],
   "source": [
    "import pandas as pd\n",
    "import numpy as np"
   ]
  },
  {
   "cell_type": "code",
   "execution_count": 90,
   "id": "90395419",
   "metadata": {},
   "outputs": [],
   "source": [
    "# reading a csv file as dataframe\n",
    "df1 = pd.read_csv('milldata.csv')"
   ]
  },
  {
   "cell_type": "code",
   "execution_count": null,
   "id": "9cabf330",
   "metadata": {},
   "outputs": [],
   "source": [
    "# creating function to create df1\n",
    "# get familiar with the data first, open it using excel"
   ]
  },
  {
   "cell_type": "code",
   "execution_count": 91,
   "id": "6a17f201",
   "metadata": {},
   "outputs": [
    {
     "data": {
      "text/plain": [
       "['SL#',\n",
       " 'MILLER_CODE',\n",
       " 'MILLING_CAP',\n",
       " 'CAPACITY_2',\n",
       " 'PERFORMANCE_STATUS',\n",
       " 'PADDY_LIFTED',\n",
       " 'ADDITIONAL_SECURITY',\n",
       " 'RICE_DELIVERED_QTL']"
      ]
     },
     "metadata": {},
     "output_type": "display_data"
    }
   ],
   "source": [
    "# listing the column headers\n",
    "display(list(df1.columns.values))"
   ]
  },
  {
   "cell_type": "code",
   "execution_count": 92,
   "id": "0f9b0d60",
   "metadata": {},
   "outputs": [],
   "source": [
    "# creating a new dataframe with 2nd, 3rd, and 5th columns of df1\n",
    "df2 = df1.iloc[:, [1, 2, 4]]"
   ]
  },
  {
   "cell_type": "code",
   "execution_count": 93,
   "id": "e357c236",
   "metadata": {},
   "outputs": [
    {
     "data": {
      "text/html": [
       "<div>\n",
       "<style scoped>\n",
       "    .dataframe tbody tr th:only-of-type {\n",
       "        vertical-align: middle;\n",
       "    }\n",
       "\n",
       "    .dataframe tbody tr th {\n",
       "        vertical-align: top;\n",
       "    }\n",
       "\n",
       "    .dataframe thead th {\n",
       "        text-align: right;\n",
       "    }\n",
       "</style>\n",
       "<table border=\"1\" class=\"dataframe\">\n",
       "  <thead>\n",
       "    <tr style=\"text-align: right;\">\n",
       "      <th></th>\n",
       "      <th>MILLER_CODE</th>\n",
       "      <th>MILLING_CAP</th>\n",
       "      <th>PERFORMANCE_STATUS</th>\n",
       "    </tr>\n",
       "  </thead>\n",
       "  <tbody>\n",
       "    <tr>\n",
       "      <th>7</th>\n",
       "      <td>M010601</td>\n",
       "      <td>120000</td>\n",
       "      <td>no</td>\n",
       "    </tr>\n",
       "    <tr>\n",
       "      <th>4</th>\n",
       "      <td>M010302</td>\n",
       "      <td>131500</td>\n",
       "      <td>yes</td>\n",
       "    </tr>\n",
       "    <tr>\n",
       "      <th>3</th>\n",
       "      <td>M010301</td>\n",
       "      <td>136000</td>\n",
       "      <td>yes</td>\n",
       "    </tr>\n",
       "    <tr>\n",
       "      <th>5</th>\n",
       "      <td>M010303</td>\n",
       "      <td>143300</td>\n",
       "      <td>no</td>\n",
       "    </tr>\n",
       "    <tr>\n",
       "      <th>1</th>\n",
       "      <td>M010102</td>\n",
       "      <td>154550</td>\n",
       "      <td>yes</td>\n",
       "    </tr>\n",
       "    <tr>\n",
       "      <th>6</th>\n",
       "      <td>M010402</td>\n",
       "      <td>154550</td>\n",
       "      <td>yes</td>\n",
       "    </tr>\n",
       "    <tr>\n",
       "      <th>2</th>\n",
       "      <td>M010201</td>\n",
       "      <td>160000</td>\n",
       "      <td>no</td>\n",
       "    </tr>\n",
       "    <tr>\n",
       "      <th>0</th>\n",
       "      <td>M010101</td>\n",
       "      <td>163000</td>\n",
       "      <td>yes</td>\n",
       "    </tr>\n",
       "  </tbody>\n",
       "</table>\n",
       "</div>"
      ],
      "text/plain": [
       "  MILLER_CODE  MILLING_CAP PERFORMANCE_STATUS\n",
       "7     M010601       120000                 no\n",
       "4     M010302       131500                yes\n",
       "3     M010301       136000                yes\n",
       "5     M010303       143300                 no\n",
       "1     M010102       154550                yes\n",
       "6     M010402       154550                yes\n",
       "2     M010201       160000                 no\n",
       "0     M010101       163000                yes"
      ]
     },
     "execution_count": 93,
     "metadata": {},
     "output_type": "execute_result"
    }
   ],
   "source": [
    "# sort the new dataframe by its 2nd column\n",
    "df2.sort_values(\"MILLING_CAP\")"
   ]
  },
  {
   "cell_type": "code",
   "execution_count": 87,
   "id": "c40036ae",
   "metadata": {},
   "outputs": [],
   "source": [
    "# creating a function which outputs df2\n",
    "\n",
    "def dataframefilter(fl):\n",
    "    df1=pd.read_csv(fl)\n",
    "    hdr1 = list(df1)\n",
    "    df2=df1[[hdr1[1], hdr1[2], hdr1[4]]]\n",
    "    hdr2 = list(df2)\n",
    "    df2s = df2.sort_values(hdr2[1])\n",
    "    return(df2s)"
   ]
  },
  {
   "cell_type": "code",
   "execution_count": 88,
   "id": "9d45a026",
   "metadata": {},
   "outputs": [
    {
     "data": {
      "text/html": [
       "<div>\n",
       "<style scoped>\n",
       "    .dataframe tbody tr th:only-of-type {\n",
       "        vertical-align: middle;\n",
       "    }\n",
       "\n",
       "    .dataframe tbody tr th {\n",
       "        vertical-align: top;\n",
       "    }\n",
       "\n",
       "    .dataframe thead th {\n",
       "        text-align: right;\n",
       "    }\n",
       "</style>\n",
       "<table border=\"1\" class=\"dataframe\">\n",
       "  <thead>\n",
       "    <tr style=\"text-align: right;\">\n",
       "      <th></th>\n",
       "      <th>MILLER_CODE</th>\n",
       "      <th>MILLING_CAP</th>\n",
       "      <th>PERFORMANCE_STATUS</th>\n",
       "    </tr>\n",
       "  </thead>\n",
       "  <tbody>\n",
       "    <tr>\n",
       "      <th>7</th>\n",
       "      <td>M010601</td>\n",
       "      <td>120000</td>\n",
       "      <td>no</td>\n",
       "    </tr>\n",
       "    <tr>\n",
       "      <th>4</th>\n",
       "      <td>M010302</td>\n",
       "      <td>131500</td>\n",
       "      <td>yes</td>\n",
       "    </tr>\n",
       "    <tr>\n",
       "      <th>3</th>\n",
       "      <td>M010301</td>\n",
       "      <td>136000</td>\n",
       "      <td>yes</td>\n",
       "    </tr>\n",
       "    <tr>\n",
       "      <th>5</th>\n",
       "      <td>M010303</td>\n",
       "      <td>143300</td>\n",
       "      <td>no</td>\n",
       "    </tr>\n",
       "    <tr>\n",
       "      <th>1</th>\n",
       "      <td>M010102</td>\n",
       "      <td>154550</td>\n",
       "      <td>yes</td>\n",
       "    </tr>\n",
       "    <tr>\n",
       "      <th>6</th>\n",
       "      <td>M010402</td>\n",
       "      <td>154550</td>\n",
       "      <td>yes</td>\n",
       "    </tr>\n",
       "    <tr>\n",
       "      <th>2</th>\n",
       "      <td>M010201</td>\n",
       "      <td>160000</td>\n",
       "      <td>no</td>\n",
       "    </tr>\n",
       "    <tr>\n",
       "      <th>0</th>\n",
       "      <td>M010101</td>\n",
       "      <td>163000</td>\n",
       "      <td>yes</td>\n",
       "    </tr>\n",
       "  </tbody>\n",
       "</table>\n",
       "</div>"
      ],
      "text/plain": [
       "  MILLER_CODE  MILLING_CAP PERFORMANCE_STATUS\n",
       "7     M010601       120000                 no\n",
       "4     M010302       131500                yes\n",
       "3     M010301       136000                yes\n",
       "5     M010303       143300                 no\n",
       "1     M010102       154550                yes\n",
       "6     M010402       154550                yes\n",
       "2     M010201       160000                 no\n",
       "0     M010101       163000                yes"
      ]
     },
     "execution_count": 88,
     "metadata": {},
     "output_type": "execute_result"
    }
   ],
   "source": [
    "dataframefilter('milldata.csv')"
   ]
  },
  {
   "cell_type": "code",
   "execution_count": 102,
   "id": "8dc02da1",
   "metadata": {},
   "outputs": [
    {
     "data": {
      "text/html": [
       "<div>\n",
       "<style scoped>\n",
       "    .dataframe tbody tr th:only-of-type {\n",
       "        vertical-align: middle;\n",
       "    }\n",
       "\n",
       "    .dataframe tbody tr th {\n",
       "        vertical-align: top;\n",
       "    }\n",
       "\n",
       "    .dataframe thead th {\n",
       "        text-align: right;\n",
       "    }\n",
       "</style>\n",
       "<table border=\"1\" class=\"dataframe\">\n",
       "  <thead>\n",
       "    <tr style=\"text-align: right;\">\n",
       "      <th></th>\n",
       "      <th>MILLER_CODE</th>\n",
       "      <th>MILLING_CAP</th>\n",
       "      <th>PERFORMANCE_STATUS</th>\n",
       "    </tr>\n",
       "  </thead>\n",
       "  <tbody>\n",
       "    <tr>\n",
       "      <th>0</th>\n",
       "      <td>M010101</td>\n",
       "      <td>163000</td>\n",
       "      <td>yes</td>\n",
       "    </tr>\n",
       "    <tr>\n",
       "      <th>1</th>\n",
       "      <td>M010102</td>\n",
       "      <td>154550</td>\n",
       "      <td>yes</td>\n",
       "    </tr>\n",
       "    <tr>\n",
       "      <th>6</th>\n",
       "      <td>M010402</td>\n",
       "      <td>154550</td>\n",
       "      <td>yes</td>\n",
       "    </tr>\n",
       "  </tbody>\n",
       "</table>\n",
       "</div>"
      ],
      "text/plain": [
       "  MILLER_CODE  MILLING_CAP PERFORMANCE_STATUS\n",
       "0     M010101       163000                yes\n",
       "1     M010102       154550                yes\n",
       "6     M010402       154550                yes"
      ]
     },
     "execution_count": 102,
     "metadata": {},
     "output_type": "execute_result"
    }
   ],
   "source": [
    "## Adding a filter into the dataframe\n",
    "# extract the data with milling cap > 150000 and performance status is yes\n",
    "\n",
    "hdr2= list(df2)\n",
    "hdr2\n",
    "\n",
    "df3 = df2.loc[(df2[hdr2[1]] > 150000) & (df2[hdr2[2]] == \"yes\")]\n",
    "df3"
   ]
  },
  {
   "cell_type": "code",
   "execution_count": 14,
   "id": "796b803f",
   "metadata": {},
   "outputs": [
    {
     "data": {
      "text/plain": [
       "array([[0, 0, 0, 0],\n",
       "       [0, 0, 0, 0],\n",
       "       [0, 0, 0, 0]])"
      ]
     },
     "execution_count": 14,
     "metadata": {},
     "output_type": "execute_result"
    }
   ],
   "source": [
    "#------------------------------------------------------------------\n",
    "# Create a 3x4 matrix A contains 0\n",
    "\n",
    "a = (3, 4)\n",
    "A = np.zeros(a, dtype = int)"
   ]
  },
  {
   "cell_type": "code",
   "execution_count": 57,
   "id": "a36e408f",
   "metadata": {},
   "outputs": [
    {
     "data": {
      "text/plain": [
       "array([[0, 1, 0, 1],\n",
       "       [1, 0, 1, 0],\n",
       "       [0, 1, 0, 1]])"
      ]
     },
     "execution_count": 57,
     "metadata": {},
     "output_type": "execute_result"
    }
   ],
   "source": [
    "# put 1 in matrix A if the sum of indices is odd\n",
    "\n",
    "for a in range(A.shape[0]):\n",
    "    for i in range(A.shape[1]):\n",
    "        if ((a+i)%2) == 1:\n",
    "            A[a,i] = 1\n",
    "A "
   ]
  },
  {
   "cell_type": "code",
   "execution_count": 62,
   "id": "82d1b0e6",
   "metadata": {},
   "outputs": [
    {
     "data": {
      "text/plain": [
       "array([ 1,  2,  3,  4,  5,  6,  7,  8,  9, 10, 11, 12])"
      ]
     },
     "execution_count": 62,
     "metadata": {},
     "output_type": "execute_result"
    }
   ],
   "source": [
    "# Create a vector X of dimension 12, consisting of all 1<= x <=12\n",
    "\n",
    "X = np.arange(1,13)\n",
    "X"
   ]
  },
  {
   "cell_type": "code",
   "execution_count": 64,
   "id": "154f3389",
   "metadata": {},
   "outputs": [
    {
     "data": {
      "text/plain": [
       "array([[ 1,  2,  3,  4],\n",
       "       [ 5,  6,  7,  8],\n",
       "       [ 9, 10, 11, 12]])"
      ]
     },
     "execution_count": 64,
     "metadata": {},
     "output_type": "execute_result"
    }
   ],
   "source": [
    "# Reshape X into a 3x4 matrix B\n",
    "\n",
    "B = np.reshape(X, (3, 4))\n",
    "B"
   ]
  },
  {
   "cell_type": "code",
   "execution_count": 71,
   "id": "273f2758",
   "metadata": {},
   "outputs": [
    {
     "data": {
      "text/plain": [
       "array([[ 1,  3,  3,  5],\n",
       "       [ 6,  6,  8,  8],\n",
       "       [ 9, 11, 11, 13]])"
      ]
     },
     "execution_count": 71,
     "metadata": {},
     "output_type": "execute_result"
    }
   ],
   "source": [
    "# add matrix A and B\n",
    "\n",
    "A+B"
   ]
  },
  {
   "cell_type": "code",
   "execution_count": 27,
   "id": "853bc157",
   "metadata": {},
   "outputs": [
    {
     "data": {
      "text/plain": [
       "array([[ 3,  2],\n",
       "       [ 2, -1]])"
      ]
     },
     "execution_count": 27,
     "metadata": {},
     "output_type": "execute_result"
    }
   ],
   "source": [
    "#--------------------------------------------------------------------------------------\n",
    "# create a numpy array C for the coefficient matrix in the equation\n",
    "\n",
    "C = np.array([[3, 2], [2, -1]])\n",
    "C"
   ]
  }
 ],
 "metadata": {
  "kernelspec": {
   "display_name": "Python 3 (ipykernel)",
   "language": "python",
   "name": "python3"
  },
  "language_info": {
   "codemirror_mode": {
    "name": "ipython",
    "version": 3
   },
   "file_extension": ".py",
   "mimetype": "text/x-python",
   "name": "python",
   "nbconvert_exporter": "python",
   "pygments_lexer": "ipython3",
   "version": "3.9.7"
  }
 },
 "nbformat": 4,
 "nbformat_minor": 5
}
