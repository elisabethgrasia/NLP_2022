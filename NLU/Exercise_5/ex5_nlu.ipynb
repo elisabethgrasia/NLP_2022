{
 "cells": [
  {
   "cell_type": "code",
   "execution_count": 1,
   "id": "582eb18a",
   "metadata": {},
   "outputs": [],
   "source": [
    "import os\n",
    "from collections import Counter\n",
    "import re"
   ]
  },
  {
   "cell_type": "code",
   "execution_count": 10,
   "id": "75ea91bf",
   "metadata": {},
   "outputs": [],
   "source": [
    "austen_dir = os.walk(\"austen\").__next__()[2]"
   ]
  },
  {
   "cell_type": "code",
   "execution_count": 11,
   "id": "f85d1e40",
   "metadata": {},
   "outputs": [
    {
     "data": {
      "text/plain": [
       "['emma.txt',\n",
       " 'mansfield.txt',\n",
       " 'northanger.txt',\n",
       " 'persuasion.txt',\n",
       " 'pride.txt',\n",
       " 'sense.txt']"
      ]
     },
     "execution_count": 11,
     "metadata": {},
     "output_type": "execute_result"
    }
   ],
   "source": [
    "austen_dir"
   ]
  },
  {
   "cell_type": "code",
   "execution_count": null,
   "id": "b92b308a",
   "metadata": {},
   "outputs": [],
   "source": [
    "with open('austen/emma.txt', 'r', encoding=\"utf-8\") as f:\n",
    "    emma = f.read()\n",
    "    print(emma[0:10])"
   ]
  },
  {
   "cell_type": "code",
   "execution_count": 66,
   "id": "93fa594d",
   "metadata": {},
   "outputs": [],
   "source": [
    "wordlist1 = [\"fight\", \"love\", \"laugh\", \"hate\", \"joy\", \"happy\", \"happiness\", \"sorrow\", \"weep\", \"calm\", \"peace\", \"home\"]\n"
   ]
  },
  {
   "cell_type": "code",
   "execution_count": null,
   "id": "5ebf6e72",
   "metadata": {},
   "outputs": [],
   "source": [
    "news = \"\"\"Chris Dawson's former family babysitter has told a murder trial the former rugby league \n",
    "player used to give his wife alcoholic drinks so she would sleep while he cheated on her.\"\"\""
   ]
  },
  {
   "cell_type": "code",
   "execution_count": null,
   "id": "842a0ef4",
   "metadata": {},
   "outputs": [],
   "source": [
    "uu = re.split(r'\\W+', emma)"
   ]
  },
  {
   "cell_type": "code",
   "execution_count": null,
   "id": "f478979f",
   "metadata": {},
   "outputs": [],
   "source": [
    "Counter(uu)['love']"
   ]
  },
  {
   "cell_type": "code",
   "execution_count": null,
   "id": "1ee7b3a8",
   "metadata": {},
   "outputs": [],
   "source": [
    "from nltk.corpus import stopwords"
   ]
  },
  {
   "cell_type": "code",
   "execution_count": null,
   "id": "02c4ac46",
   "metadata": {},
   "outputs": [],
   "source": [
    "xx = sorted(stopwords.words('english'))"
   ]
  },
  {
   "cell_type": "code",
   "execution_count": null,
   "id": "88d15c89",
   "metadata": {},
   "outputs": [],
   "source": [
    "# avoid get rid of negative words\n",
    "#'\\w+n\\'\\w*', no, not, nor"
   ]
  },
  {
   "cell_type": "code",
   "execution_count": 68,
   "id": "f0334861",
   "metadata": {},
   "outputs": [],
   "source": [
    "indx_dict = {xx[i]:i for i in range(len(xx))}"
   ]
  },
  {
   "cell_type": "code",
   "execution_count": 69,
   "id": "6c11194e",
   "metadata": {},
   "outputs": [
    {
     "data": {
      "text/plain": [
       "95"
      ]
     },
     "execution_count": 69,
     "metadata": {},
     "output_type": "execute_result"
    }
   ],
   "source": [
    "indx_dict['not']"
   ]
  },
  {
   "cell_type": "code",
   "execution_count": null,
   "id": "e7fe39a8",
   "metadata": {},
   "outputs": [],
   "source": []
  }
 ],
 "metadata": {
  "interpreter": {
   "hash": "ad2bdc8ecc057115af97d19610ffacc2b4e99fae6737bb82f5d7fb13d2f2c186"
  },
  "kernelspec": {
   "display_name": "Python 3.9.7 ('base')",
   "language": "python",
   "name": "python3"
  },
  "language_info": {
   "codemirror_mode": {
    "name": "ipython",
    "version": 3
   },
   "file_extension": ".py",
   "mimetype": "text/x-python",
   "name": "python",
   "nbconvert_exporter": "python",
   "pygments_lexer": "ipython3",
   "version": "3.9.7"
  }
 },
 "nbformat": 4,
 "nbformat_minor": 5
}
