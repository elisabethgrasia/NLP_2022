{
 "cells": [
  {
   "cell_type": "markdown",
   "metadata": {},
   "source": [
    "### NLU22 Lab Exercise 1"
   ]
  },
  {
   "cell_type": "markdown",
   "metadata": {},
   "source": [
    "### Task 1  \n",
    "\n",
    "In this exercise you will work through some very useful data structures in Python: **lists**, **tuples** and **dictionaries**. \n",
    "\n",
    "Copy the file \"Australian_states_population.csv\".  There are 3 columns \"State\", \"Population...\", \"Change...\". "
   ]
  },
  {
   "cell_type": "markdown",
   "metadata": {},
   "source": [
    "In Python a **dictionary** is arranged as key valye pair. The keys can be any *immutable* object. For example, integers, strings, tuples but not lists. A dictionary is similar to a \"hashmap\" in Java. The values in a dictionary cane be any type of objects.  \n",
    "A dictionary is similar to a many-to-one mapping or function. "
   ]
  },
  {
   "cell_type": "code",
   "execution_count": 5,
   "metadata": {},
   "outputs": [],
   "source": [
    "#Examples\n",
    "dict1 = {'a':1, 'b':2, 'c':3, 'd':4}\n",
    "dict2 = {1:'a', 2:'b', 3:'c', 4:'d'}\n",
    "dict3 = {\"Australia\": \"Oceania\", \"India\":\"Asia\", \"UK\":\"Europe\", \"Georgia\":(\"Asia\", \"Europe\"), \n",
    "         \"China\":\"Asia\"}"
   ]
  },
  {
   "cell_type": "code",
   "execution_count": 6,
   "metadata": {},
   "outputs": [
    {
     "data": {
      "text/plain": [
       "(2, ('Asia', 'Europe'))"
      ]
     },
     "execution_count": 6,
     "metadata": {},
     "output_type": "execute_result"
    }
   ],
   "source": [
    "dict1['b'], dict3[\"Georgia\"]"
   ]
  },
  {
   "cell_type": "code",
   "execution_count": 3,
   "metadata": {},
   "outputs": [
    {
     "data": {
      "text/plain": [
       "dict_keys([1, 2, 3, 4])"
      ]
     },
     "execution_count": 3,
     "metadata": {},
     "output_type": "execute_result"
    }
   ],
   "source": [
    "dict2.keys()"
   ]
  },
  {
   "cell_type": "code",
   "execution_count": 7,
   "metadata": {},
   "outputs": [],
   "source": [
    "##The following you will output two dictionaries. \n",
    "##The first will have keys as the name of the state, \"Victoria\", \"New South Wales\" etc. \n",
    "##and values the corresponding abbreviation Victoria:Vic, Tasmania:Tas etc. The second dictionary \n",
    "##is the \"reverse map\" from abbreviations to state names,e.g.,  NSW: New South Wales.  \n",
    "\n",
    "def state_abbrev():\n",
    "    states = [] #state list\n",
    "    abbr = [] #abbreviation list\n",
    "    st_abr = {} #empty dictionary\n",
    "    abr_st = {}\n",
    "    ##Your code here. Create and output 2 dictionaries \"st_abr\" and \"abr_st\". You should use a \n",
    "    ##for loop to iterate through the above lists. \n",
    "    return st_abr, abr_st"
   ]
  },
  {
   "cell_type": "code",
   "execution_count": null,
   "metadata": {},
   "outputs": [],
   "source": [
    "##The following function takes as input the full name of a state and \n",
    "## outputs a the percentage of population change. First, crate a dictionary \"state_ppln\"  \n",
    "##that has keys as state abbreviation and values are pairs: (population, change) \n",
    "##from the accompanying file. For example, \n",
    "## Vic: (6649.2, -44.7) (see the table). \n",
    "\n",
    "def state_popln(state_name): \n",
    "    change = 0 \n",
    "     ##Your code. st_ppln is a dictionary you create. Call the previous function. \n",
    "    return change"
   ]
  },
  {
   "cell_type": "markdown",
   "metadata": {},
   "source": [
    "Some sample outputs.  \n",
    "\n",
    "st_abr[\"South Australia\"], \"SA\"   \n",
    "abr_st[\"Tas\"], \"Tasmania\"  \n",
    "state_popln('Victoria'), -0.7  \n",
    "st_ppln[\"NSW\"], (8189.3, 22.2) \n"
   ]
  },
  {
   "cell_type": "markdown",
   "metadata": {},
   "source": [
    "### Task 2\n",
    "\n",
    "You are provided with a text file. You will do some basic text processing.  \n",
    "\n",
    "Write a function that gives the following outputs. \n",
    "\n",
    "1. Ratio of the alphanumeric characters to the number of non-alphanumeric characters that are not whitespace characters. \n",
    "\n",
    "2. Number of *articles* in the text. \n",
    "\n",
    "3. Number of words of length at least 4. \n",
    "\n",
    "4. The five most frequently occuring letters and their frequency counts. Ignore case. \n",
    "\n",
    "**Hint.** You should try using regex. The built in function **str.split()** may be useful. "
   ]
  },
  {
   "cell_type": "code",
   "execution_count": null,
   "metadata": {},
   "outputs": [],
   "source": []
  }
 ],
 "metadata": {
  "kernelspec": {
   "display_name": "Python 3",
   "language": "python",
   "name": "python3"
  },
  "language_info": {
   "codemirror_mode": {
    "name": "ipython",
    "version": 3
   },
   "file_extension": ".py",
   "mimetype": "text/x-python",
   "name": "python",
   "nbconvert_exporter": "python",
   "pygments_lexer": "ipython3",
   "version": "3.8.5"
  }
 },
 "nbformat": 4,
 "nbformat_minor": 4
}
