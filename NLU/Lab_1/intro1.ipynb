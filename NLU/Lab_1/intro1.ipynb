{
 "cells": [
  {
   "cell_type": "code",
   "execution_count": null,
   "metadata": {
    "slideshow": {
     "slide_type": "notes"
    }
   },
   "outputs": [],
   "source": [
    "#First notebook for NLU21 (301313)\n",
    "print(\"hello, world\")"
   ]
  },
  {
   "cell_type": "markdown",
   "metadata": {
    "slideshow": {
     "slide_type": "slide"
    }
   },
   "source": [
    "#### This is a markdown cell. \n",
    "In this notebook you will get a rapid introduction to python. \n",
    "Python has much less formal structure than languages like C++ or Java. \n",
    "It is easy to create variables and use them.  "
   ]
  },
  {
   "cell_type": "code",
   "execution_count": null,
   "metadata": {
    "scrolled": false,
    "slideshow": {
     "slide_type": "slide"
    }
   },
   "outputs": [],
   "source": [
    "x = 5 \n",
    "y = 3.4\n",
    "print(x+y)\n",
    "#y = \"hello\" \n",
    "print(y)\n"
   ]
  },
  {
   "cell_type": "markdown",
   "metadata": {
    "slideshow": {
     "slide_type": "subslide"
    }
   },
   "source": [
    "- Note we did not use statement delimiters like ';'. The newline character is the default delimiter. \n",
    "- Also note that there are no \"type\" declarations. Python is dynamically typed.\n",
    "- Type conversion, when possible, is automatic. \n",
    "- Let us look at the common arithmetic operations."
   ]
  },
  {
   "cell_type": "code",
   "execution_count": 9,
   "metadata": {
    "slideshow": {
     "slide_type": "slide"
    }
   },
   "outputs": [
    {
     "name": "stdout",
     "output_type": "stream",
     "text": [
      "1.6 17.0 1.4705882352941178 1.47 4\n"
     ]
    }
   ],
   "source": [
    "#from math import floor\n",
    "import math as mth\n",
    "from math import floor, ceil\n",
    "r1 = x - y\n",
    "r2 = x*y\n",
    "r3 = x/y\n",
    "r4 = y**x\n",
    "r5 = floor(y**x)%x\n",
    "print(r1, r2, r3, round(r3, 2), r5)"
   ]
  },
  {
   "cell_type": "code",
   "execution_count": 15,
   "metadata": {},
   "outputs": [
    {
     "name": "stdout",
     "output_type": "stream",
     "text": [
      "1 2\n"
     ]
    },
    {
     "data": {
      "text/plain": [
       "str"
      ]
     },
     "execution_count": 15,
     "metadata": {},
     "output_type": "execute_result"
    }
   ],
   "source": [
    "z = 1.77\n",
    "print(floor(z), ceil(z))\n",
    "xx = \"abc\"\n",
    "type(xx)"
   ]
  },
  {
   "cell_type": "markdown",
   "metadata": {
    "slideshow": {
     "slide_type": "subslide"
    }
   },
   "source": [
    "Note the use of *keyword* **import**. You can also use the first satement which is commented out. \n",
    "We have used the functions **round**(), **print**(). These are built-in functions. \n",
    "The **floor**() function, on the other hand, is a part of the **math** module. "
   ]
  },
  {
   "cell_type": "markdown",
   "metadata": {
    "slideshow": {
     "slide_type": "slide"
    }
   },
   "source": [
    "Let us now take a first look at another important data type: **string** (we have seen **int** and **float** above). "
   ]
  },
  {
   "cell_type": "code",
   "execution_count": 20,
   "metadata": {
    "slideshow": {
     "slide_type": "slide"
    }
   },
   "outputs": [
    {
     "name": "stdout",
     "output_type": "stream",
     "text": [
      "5 \n",
      " H \n",
      " .\n"
     ]
    },
    {
     "data": {
      "text/plain": [
       "'o'"
      ]
     },
     "execution_count": 20,
     "metadata": {},
     "output_type": "execute_result"
    }
   ],
   "source": [
    "s = \"I love movies.\" \n",
    "s2 = 'Hello'\n",
    "print(len(s2), '\\n', s2[0], '\\n', s[len(s)-1])\n",
    "s2[4]"
   ]
  },
  {
   "cell_type": "markdown",
   "metadata": {},
   "source": [
    "$$x = a^2$$ "
   ]
  },
  {
   "cell_type": "markdown",
   "metadata": {
    "slideshow": {
     "slide_type": "notes"
    }
   },
   "source": [
    "Like the language C, a string is considered as an array of characters. \n",
    "We have looked at simple program statements (assignments).   \n",
    "Now let us look at branching or conditional execution of a program. "
   ]
  },
  {
   "cell_type": "code",
   "execution_count": 22,
   "metadata": {
    "scrolled": true,
    "slideshow": {
     "slide_type": "slide"
    }
   },
   "outputs": [
    {
     "name": "stdout",
     "output_type": "stream",
     "text": [
      "i found\n",
      "O not found\n",
      "14\n",
      "ho\n"
     ]
    }
   ],
   "source": [
    "if ('i' in s):\n",
    "    print('i found')\n",
    "if ('O' in s):\n",
    "    print('O found')\n",
    "else: \n",
    "    print(\"O not found\")\n",
    "if len(s) < 5:\n",
    "    print(\"ha\")\n",
    "else:\n",
    "    print(len(s))\n",
    "    print(\"ho\")\n"
   ]
  },
  {
   "cell_type": "markdown",
   "metadata": {
    "slideshow": {
     "slide_type": "slide"
    }
   },
   "source": [
    "- Note the \"keyword\" **in**. It can be used in any **container** type. \n",
    "- Observe the structure of **if** statement. The rule is \n",
    " - **if** BE : S (**else**) : S\n",
    "- This is an example of a *production rule* using formal *grammar*. \n",
    "Let us now consider the second basic compound statement, **iteration**. "
   ]
  },
  {
   "cell_type": "code",
   "execution_count": 27,
   "metadata": {
    "slideshow": {
     "slide_type": "slide"
    }
   },
   "outputs": [
    {
     "name": "stdout",
     "output_type": "stream",
     "text": [
      "9\n",
      "6\n"
     ]
    }
   ],
   "source": [
    "s = \"I liked the book 'The Old Man and the Sea'. Tolstoy's 'War and Peace' is another great work.\"\n",
    "#Let us count the number of occurences of a letter, say 'e', in the text above. \n",
    "count_e = 0\n",
    "for c in s:\n",
    "    if c=='e':\n",
    "        count_e +=1\n",
    "print(count_e)\n",
    "\n",
    "count_o = 0\n",
    "x = 0\n",
    "while x<len(s):\n",
    "    if s[x]=='o':\n",
    "        count_o+=1\n",
    "    x+=1\n",
    "print(count_o)\n"
   ]
  },
  {
   "cell_type": "markdown",
   "metadata": {
    "slideshow": {
     "slide_type": "subslide"
    }
   },
   "source": [
    "-A **string** is a *container* object in Python.\n",
    "-There are many other containers like **list**, **tuple**, **dictinary** etc. \n",
    "-Note the two ways we implemented similar tasks. "
   ]
  },
  {
   "cell_type": "code",
   "execution_count": 28,
   "metadata": {
    "slideshow": {
     "slide_type": "slide"
    }
   },
   "outputs": [
    {
     "name": "stdout",
     "output_type": "stream",
     "text": [
      "[(0, 'I'), (3, 'i'), (5, 'e'), (10, 'e'), (13, 'o'), (14, 'o'), (20, 'e'), (22, 'O'), (27, 'a'), (30, 'a'), (36, 'e'), (39, 'e'), (40, 'a'), (45, 'o'), (49, 'o'), (56, 'a'), (59, 'a'), (64, 'e'), (65, 'a'), (67, 'e'), (70, 'i'), (73, 'a'), (75, 'o'), (78, 'e'), (83, 'e'), (84, 'a'), (88, 'o')] 92\n",
      "27\n"
     ]
    }
   ],
   "source": [
    "vowels = ['a','e','i','o','u', 'A', 'E', 'I', 'O', 'U']\n",
    "e_loc = [(i, s[i]) for i in range(len(s)) if s[i] in vowels]\n",
    "print(e_loc, len(s))\n",
    "count_vowels = sum([s.count(x) for x in vowels])\n",
    "print(count_vowels)"
   ]
  },
  {
   "cell_type": "markdown",
   "metadata": {
    "slideshow": {
     "slide_type": "subslide"
    }
   },
   "source": [
    "We have used **list comprehension** above. Instead of using a loop we have used a powerful, concise and elegant feature in Python to create new lists. How will you create a letter frequency table? "
   ]
  },
  {
   "cell_type": "code",
   "execution_count": null,
   "metadata": {
    "slideshow": {
     "slide_type": "slide"
    }
   },
   "outputs": [],
   "source": [
    "def fact(n):\n",
    "    if n==0:\n",
    "        return 1\n",
    "    else:\n",
    "        return n*fact(n-1)\n",
    "fact(6)"
   ]
  },
  {
   "cell_type": "markdown",
   "metadata": {
    "slideshow": {
     "slide_type": "subslide"
    }
   },
   "source": [
    "Here we have an example of python function. Also note the recursive call.  "
   ]
  },
  {
   "cell_type": "code",
   "execution_count": null,
   "metadata": {
    "slideshow": {
     "slide_type": "slide"
    }
   },
   "outputs": [],
   "source": [
    "print(ord(u'a'))\n",
    "chr(97)"
   ]
  },
  {
   "cell_type": "code",
   "execution_count": null,
   "metadata": {},
   "outputs": [],
   "source": [
    "s = \"I am a student of Western Sydney University. I like sports and hiking.\"\n",
    "s.split()"
   ]
  },
  {
   "cell_type": "code",
   "execution_count": null,
   "metadata": {},
   "outputs": [],
   "source": [
    "s = s.replace('.', \"\")\n",
    "s.split()"
   ]
  },
  {
   "cell_type": "markdown",
   "metadata": {
    "slideshow": {
     "slide_type": "slide"
    }
   },
   "source": [
    "1. Write a program to convert temperatures from (0-100) from Celsius to Farenheit in steps of 10 and print on screen. \n",
    "\n",
    "2. Write an interactive version of the conversion program. \n",
    "\n",
    "3. A simple cipher attributed to Julius Caesar shifts (cyclically) each letter by a constant amount $d$. For example, in a 2-shift cipher `a' becomes `c', `x' becomes `z' and `y' becomes `a'. Write a Python function ``caesar\\_encode$(s, d)$'' which takes a string $s$ and an integer $d\\geq 0$ as input and produces a string $cs$ as output. Write the corresponding decoder function. "
   ]
  },
  {
   "cell_type": "code",
   "execution_count": null,
   "metadata": {
    "slideshow": {
     "slide_type": "skip"
    }
   },
   "outputs": [],
   "source": [
    " s= input(\"write something\\n\")"
   ]
  },
  {
   "cell_type": "code",
   "execution_count": null,
   "metadata": {
    "slideshow": {
     "slide_type": "skip"
    }
   },
   "outputs": [],
   "source": [
    "ord('a')"
   ]
  }
 ],
 "metadata": {
  "celltoolbar": "Slideshow",
  "kernelspec": {
   "display_name": "Python 3",
   "language": "python",
   "name": "python3"
  },
  "language_info": {
   "codemirror_mode": {
    "name": "ipython",
    "version": 3
   },
   "file_extension": ".py",
   "mimetype": "text/x-python",
   "name": "python",
   "nbconvert_exporter": "python",
   "pygments_lexer": "ipython3",
   "version": "3.8.5"
  }
 },
 "nbformat": 4,
 "nbformat_minor": 2
}
