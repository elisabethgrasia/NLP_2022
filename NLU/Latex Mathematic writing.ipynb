{
 "cells": [
  {
   "cell_type": "markdown",
   "id": "b1dc3719",
   "metadata": {},
   "source": [
    "Simple Linear Regression Equation\n",
    "\n",
    "$$\\hat{Y} = \\hat{\\beta}_{0} + \\sum \\limits _{j=1} ^{p} X_{j}\\hat{\\beta}_{j} $$"
   ]
  },
  {
   "cell_type": "markdown",
   "id": "edb4d220",
   "metadata": {},
   "source": [
    "***\n",
    "$\\mathbf{\\text{Gradient Tree Boosting Algorithm}}$<br>\n",
    "***\n",
    "1. &emsp; Initialize model with a constant value $$f_{0}(x) = \\textrm{arg min}_{\\gamma} \\sum \\limits _{i=1} ^{N} L(y_{i}, \\gamma)$$\n",
    "2. &emsp;For m = 1 to M:<br>\n",
    "&emsp; &emsp; (a)&emsp;For $i = 1, 2, ..., N$ compute<br>\n",
    "    $$r_{im} = - \\displaystyle \\Bigg[\\frac{\\partial L(y_{i}, f(x_{i}))}{\\partial f(x_{i})}\\Bigg]_{f=f_{m-1}}$$\n",
    "&emsp; &emsp;(b)&emsp;Fit a regression tree to the targets $r_{im}$ giving terminal regions<br>\n",
    "&emsp; &emsp; &emsp; &emsp; $R_{jm}, j = 1, 2, . . . , J_{m}.$<br><br>\n",
    "&emsp; &emsp; (c)&emsp;For $j = 1, 2, . . . , J_{m}$ compute<br>\n",
    "$$\\gamma_{jm} = \\underset{\\gamma}{\\textrm{arg min}} \\sum \\limits _{x_{i} \\in R_{jm}} L(y_{i}, f_{m-1}(x_{i}) + \\gamma)$$\n",
    "<br>\n",
    "&emsp; &emsp;(d)&emsp; Update $f_{m} (x) = f_{m-1}(x) + \\sum _{j=1} ^{J_{m}} \\gamma_{jm} I(x \\in R_{jm})$<br><br>\n",
    "3. Output $\\hat{f}(x) = f_{M}(x)$"
   ]
  },
  {
   "cell_type": "markdown",
   "id": "48b048d4",
   "metadata": {},
   "source": [
    "$$\\begin{bmatrix} a_{1} & X_{1} \\\\ a_{2} & X_{2} \\\\ a_{3} & X_{3} \\end{bmatrix}$$"
   ]
  }
 ],
 "metadata": {
  "kernelspec": {
   "display_name": "Python 3 (ipykernel)",
   "language": "python",
   "name": "python3"
  },
  "language_info": {
   "codemirror_mode": {
    "name": "ipython",
    "version": 3
   },
   "file_extension": ".py",
   "mimetype": "text/x-python",
   "name": "python",
   "nbconvert_exporter": "python",
   "pygments_lexer": "ipython3",
   "version": "3.9.7"
  }
 },
 "nbformat": 4,
 "nbformat_minor": 5
}
