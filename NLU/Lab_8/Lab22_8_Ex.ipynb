{
 "cells": [
  {
   "cell_type": "markdown",
   "metadata": {},
   "source": [
    "#### Lab 8 Exercise  "
   ]
  },
  {
   "cell_type": "markdown",
   "metadata": {},
   "source": [
    "1.Download the 6 Austen texts. Find the tf-idf values for the following terms:  \n",
    ">**fight, love, laugh, hate,  joy, happy/happiness, sorrow,  weep, calm, peace, home** \n",
    "\n",
    "2. Make a vector corresponding to the tf-idf value of these terms for each text/document.   **(10)**\n",
    "3. Compute the centroid of all documents and define the document vector    **(5)**   \n",
    "by starting from origin (the vector from the origin to the\n",
    "document). The centroid of $n$ vectors $\\pmb{x}_1, \\pmb{x}_2, \\dotsc, \\pmb{x}_n$ is given by \n",
    "$$ \\frac{\\pmb{x}_1+ \\pmb{x}_2+ \\dotsb, + \\pmb{x}_n}{n} $$  \n",
    "4. Make a matrix of cos() of the angles between these vectors.   **(5)**\n"
   ]
  },
  {
   "cell_type": "markdown",
   "metadata": {},
   "source": [
    "###### Answer\n",
    "1. Creating tf-idf for: fight, love, laugh, hate, joy, happy/happiness, sorrow, weep, calm, peace, home"
   ]
  },
  {
   "cell_type": "code",
   "execution_count": 26,
   "metadata": {},
   "outputs": [
    {
     "data": {
      "text/plain": [
       "['emma.txt',\n",
       " 'mansfield.txt',\n",
       " 'northanger.txt',\n",
       " 'persuasion.txt',\n",
       " 'pride.txt',\n",
       " 'sense.txt']"
      ]
     },
     "execution_count": 26,
     "metadata": {},
     "output_type": "execute_result"
    }
   ],
   "source": [
    "# Download the 6 Austen texts\n",
    "import glob \n",
    "\n",
    "text = glob.glob('*.txt')"
   ]
  },
  {
   "cell_type": "code",
   "execution_count": 38,
   "metadata": {},
   "outputs": [
    {
     "ename": "ModuleNotFoundError",
     "evalue": "No module named 'spacy'",
     "output_type": "error",
     "traceback": [
      "\u001b[1;31m---------------------------------------------------------------------------\u001b[0m",
      "\u001b[1;31mModuleNotFoundError\u001b[0m                       Traceback (most recent call last)",
      "\u001b[1;32m~\\AppData\\Local\\Temp/ipykernel_26704/1091904603.py\u001b[0m in \u001b[0;36m<module>\u001b[1;34m\u001b[0m\n\u001b[0;32m      2\u001b[0m \u001b[1;33m\u001b[0m\u001b[0m\n\u001b[0;32m      3\u001b[0m \u001b[1;31m# tokenization\u001b[0m\u001b[1;33m\u001b[0m\u001b[1;33m\u001b[0m\u001b[0m\n\u001b[1;32m----> 4\u001b[1;33m \u001b[1;32mimport\u001b[0m \u001b[0mspacy\u001b[0m\u001b[1;33m\u001b[0m\u001b[1;33m\u001b[0m\u001b[0m\n\u001b[0m\u001b[0;32m      5\u001b[0m \u001b[0mnlp\u001b[0m \u001b[1;33m=\u001b[0m \u001b[0mspacy\u001b[0m\u001b[1;33m.\u001b[0m\u001b[0mload\u001b[0m\u001b[1;33m(\u001b[0m\u001b[1;34m'en_core_web_sm'\u001b[0m\u001b[1;33m)\u001b[0m\u001b[1;33m\u001b[0m\u001b[1;33m\u001b[0m\u001b[0m\n\u001b[0;32m      6\u001b[0m \u001b[1;33m\u001b[0m\u001b[0m\n",
      "\u001b[1;31mModuleNotFoundError\u001b[0m: No module named 'spacy'"
     ]
    }
   ],
   "source": [
    "from sklearn.feature_extraction.text import TfidfVectorizer\n",
    "\n",
    "# tokenization\n",
    "import spacy\n",
    "nlp = spacy.load('en_core_web_sm')\n",
    "\n",
    "for w in text[range(0, 5)]:\n",
    "    doc = nlp(w)\n",
    "    tokens = [token.text for token in doc]\n",
    "    print(tokens)\n",
    "\n",
    "# lemmatization\n",
    "\n",
    "\n",
    "tfidf = TfidfVectorizer()\n",
    "gwordmatrix = tfidf.fit_transform(text)\n",
    "print(wordmatrix.toarray())\n",
    "\n",
    "\n"
   ]
  },
  {
   "cell_type": "code",
   "execution_count": 28,
   "metadata": {},
   "outputs": [
    {
     "name": "stdout",
     "output_type": "stream",
     "text": [
      "fight   [373]   [373]   [373]   [373]   [373]   [373]\n",
      "love   [1501]   [1501]   [1501]   [1501]   [1501]   [1501]\n",
      "laugh   [491]   [491]   [491]   [491]   [491]   [491]\n",
      "hate   [311]   [311]   [311]   [311]   [311]   [311]\n",
      "joy   [568]   [568]   [568]   [568]   [568]   [568]\n",
      "sorrow   [259]   [259]   [259]   [259]   [259]   [259]\n"
     ]
    }
   ],
   "source": [
    "# Finding tfidf (assumed all the words have been stemmed by porter's stemmer above)\n",
    "# tfidf formula = term frequency of term i in doc j *\n",
    "            # log (total number of documents in the corpus/ number of documents containing term i)\n",
    "\n",
    "wordlist1 = ['fight', 'love', 'laugh', 'hate', 'joy', 'sorrow'] \n",
    "\n",
    "for w in wordlist1:\n",
    "    print(w,' ', emmatext[w], ' ', mansfieldtext[w], ' ', northanger[w], ' ', persuasion[w], ' ', pride[w], ' ', sense[w])\n",
    "\n",
    "wordlist2 = ['weep', 'calm', 'peace', 'home', 'happy']\n",
    "\n",
    "for w in wordlist2:\n",
    "    print(w,' ', emmatext[w], ' ', mansfieldtext[w], ' ', northanger[w], ' ', persuasion[w], ' ', pride[w], ' ', sense[w])\n"
   ]
  },
  {
   "cell_type": "markdown",
   "metadata": {},
   "source": [
    "2. Make a vector corresponding to the tf-idf value of these terms for each text/document."
   ]
  },
  {
   "cell_type": "code",
   "execution_count": null,
   "metadata": {},
   "outputs": [],
   "source": []
  },
  {
   "cell_type": "markdown",
   "metadata": {},
   "source": [
    "3. Compute the centroid of all documents and define the document vector"
   ]
  },
  {
   "cell_type": "code",
   "execution_count": null,
   "metadata": {},
   "outputs": [],
   "source": []
  },
  {
   "cell_type": "markdown",
   "metadata": {},
   "source": [
    "4. Make a matrix of cos() of the angles between these vectors."
   ]
  },
  {
   "cell_type": "code",
   "execution_count": null,
   "metadata": {},
   "outputs": [],
   "source": []
  }
 ],
 "metadata": {
  "kernelspec": {
   "display_name": "Python 3 (ipykernel)",
   "language": "python",
   "name": "python3"
  },
  "language_info": {
   "codemirror_mode": {
    "name": "ipython",
    "version": 3
   },
   "file_extension": ".py",
   "mimetype": "text/x-python",
   "name": "python",
   "nbconvert_exporter": "python",
   "pygments_lexer": "ipython3",
   "version": "3.9.7"
  }
 },
 "nbformat": 4,
 "nbformat_minor": 4
}
