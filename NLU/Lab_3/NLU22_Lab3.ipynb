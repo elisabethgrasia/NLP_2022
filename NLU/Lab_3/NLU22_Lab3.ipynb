{
 "cells": [
  {
   "cell_type": "markdown",
   "id": "b5fe3922",
   "metadata": {
    "slideshow": {
     "slide_type": "slide"
    }
   },
   "source": [
    "### NLU Lab 3   \n",
    "#### Some essential/useful libraries"
   ]
  },
  {
   "cell_type": "code",
   "execution_count": 16,
   "id": "75ad7caf",
   "metadata": {
    "slideshow": {
     "slide_type": "slide"
    }
   },
   "outputs": [
    {
     "data": {
      "text/plain": [
       "['austen-emma.txt',\n",
       " 'austen-persuasion.txt',\n",
       " 'austen-sense.txt',\n",
       " 'bible-kjv.txt',\n",
       " 'blake-poems.txt',\n",
       " 'bryant-stories.txt',\n",
       " 'burgess-busterbrown.txt',\n",
       " 'carroll-alice.txt',\n",
       " 'chesterton-ball.txt',\n",
       " 'chesterton-brown.txt',\n",
       " 'chesterton-thursday.txt',\n",
       " 'edgeworth-parents.txt',\n",
       " 'melville-moby_dick.txt',\n",
       " 'milton-paradise.txt',\n",
       " 'shakespeare-caesar.txt',\n",
       " 'shakespeare-hamlet.txt',\n",
       " 'shakespeare-macbeth.txt',\n",
       " 'whitman-leaves.txt']"
      ]
     },
     "execution_count": 16,
     "metadata": {},
     "output_type": "execute_result"
    }
   ],
   "source": [
    "import nltk\n",
    "from nltk.corpus import gutenberg\n",
    "gutenberg.fileids()"
   ]
  },
  {
   "cell_type": "code",
   "execution_count": 17,
   "id": "2cff8b89",
   "metadata": {
    "slideshow": {
     "slide_type": "slide"
    }
   },
   "outputs": [
    {
     "data": {
      "text/plain": [
       "191785"
      ]
     },
     "execution_count": 17,
     "metadata": {},
     "output_type": "execute_result"
    }
   ],
   "source": [
    "emma_tokens = nltk.word_tokenize(gutenberg.raw('austen-emma.txt'))\n",
    "len(emma_tokens)"
   ]
  },
  {
   "cell_type": "code",
   "execution_count": 18,
   "id": "de5c2c8d",
   "metadata": {
    "slideshow": {
     "slide_type": "slide"
    }
   },
   "outputs": [],
   "source": [
    "caeser = gutenberg.raw('shakespeare-caesar.txt')\n",
    "emma = gutenberg.raw('austen-emma.txt')"
   ]
  },
  {
   "cell_type": "code",
   "execution_count": 19,
   "id": "4a43d407",
   "metadata": {
    "slideshow": {
     "slide_type": "skip"
    }
   },
   "outputs": [],
   "source": [
    "import string\n",
    "from nltk.stem.porter import *\n",
    "from nltk.stem.snowball import SnowballStemmer\n",
    "def tokenbuilder(txt):\n",
    "    #stem = SnowballStemmer(\"english\", ignore_stopwords=True)\n",
    "    stem = PorterStemmer( mode = 'NLTK_EXTENSIONS')\n",
    "    txt = txt.lower()\n",
    "    rmv = [\"''\", \"'\", \"'s\", \"``\", \"`\", \"--\", \"__\"]\n",
    "    for token in nltk.word_tokenize(txt):\n",
    "        if token in string.punctuation or token in rmv:\n",
    "            if (token == r'.'):\n",
    "                token = r'</s>'\n",
    "            else:\n",
    "                continue\n",
    "        #yield stem.stem(token)  \n",
    "        yield token"
   ]
  },
  {
   "cell_type": "code",
   "execution_count": 20,
   "id": "2db6cd20",
   "metadata": {
    "slideshow": {
     "slide_type": "skip"
    }
   },
   "outputs": [],
   "source": [
    "from collections import defaultdict\n",
    "def vectorize(txt):\n",
    "    features = defaultdict(int)\n",
    "    for token in tokenbuilder(txt):\n",
    "        features[token] += 1\n",
    "    return features"
   ]
  },
  {
   "cell_type": "code",
   "execution_count": 21,
   "id": "295973c8",
   "metadata": {
    "slideshow": {
     "slide_type": "slide"
    }
   },
   "outputs": [
    {
     "data": {
      "text/plain": [
       "179"
      ]
     },
     "execution_count": 21,
     "metadata": {},
     "output_type": "execute_result"
    }
   ],
   "source": [
    "from nltk.corpus import stopwords\n",
    "stopWords = set(stopwords.words('english'))\n",
    "len(stopWords)"
   ]
  },
  {
   "cell_type": "code",
   "execution_count": 22,
   "id": "040f7734",
   "metadata": {
    "slideshow": {
     "slide_type": "skip"
    }
   },
   "outputs": [],
   "source": [
    "# remove stopwords\n",
    "def tokenList(txt, stp = 0):\n",
    "    toke_list = [r'<b>']\n",
    "    if (stp == 0):\n",
    "        for token in tokenbuilder(txt):\n",
    "            toke_list.append(token)\n",
    "    else:\n",
    "         for token in tokenbuilder(txt):\n",
    "                if not token in stopWords:\n",
    "                    toke_list.append(token)\n",
    "    return toke_list"
   ]
  },
  {
   "cell_type": "code",
   "execution_count": 23,
   "id": "fbb3ccf3",
   "metadata": {
    "slideshow": {
     "slide_type": "skip"
    }
   },
   "outputs": [],
   "source": [
    "feat = vectorize(emma)"
   ]
  },
  {
   "cell_type": "code",
   "execution_count": 24,
   "id": "481d5bfa",
   "metadata": {},
   "outputs": [
    {
     "data": {
      "text/plain": [
       "0"
      ]
     },
     "execution_count": 24,
     "metadata": {},
     "output_type": "execute_result"
    }
   ],
   "source": [
    "feat[\"Love\"]"
   ]
  },
  {
   "cell_type": "code",
   "execution_count": 11,
   "id": "b35f6089",
   "metadata": {
    "slideshow": {
     "slide_type": "slide"
    }
   },
   "outputs": [],
   "source": [
    "from nltk.tokenize import TreebankWordTokenizer\n",
    "tree_tokenize = TreebankWordTokenizer()"
   ]
  },
  {
   "cell_type": "code",
   "execution_count": 12,
   "id": "fa1c68a5",
   "metadata": {
    "slideshow": {
     "slide_type": "slide"
    }
   },
   "outputs": [],
   "source": [
    "emma_tok = tree_tokenize.tokenize(gutenberg.raw('austen-emma.txt'))"
   ]
  },
  {
   "cell_type": "code",
   "execution_count": 13,
   "id": "0ffb2347",
   "metadata": {
    "slideshow": {
     "slide_type": "slide"
    }
   },
   "outputs": [
    {
     "data": {
      "text/plain": [
       "['Her father composed himself\\nto sleep after dinner, as usual, and she had then only to sit\\nand think of what she had lost.',\n",
       " 'The event had every promise of happiness for her friend.',\n",
       " \"Mr. Weston\\nwas a man of unexceptionable character, easy fortune, suitable age,\\nand pleasant manners; and there was some satisfaction in considering\\nwith what self-denying, generous friendship she had always wished\\nand promoted the match; but it was a black morning's work for her.\",\n",
       " 'The want of Miss Taylor would be felt every hour of every day.',\n",
       " 'She recalled her past kindness--the kindness, the affection of sixteen\\nyears--how she had taught and how she had played with her from five\\nyears old--how she had devoted all her powers to attach and amuse\\nher in health--and how nursed her through the various illnesses\\nof childhood.',\n",
       " \"A large debt of gratitude was owing here; but the\\nintercourse of the last seven years, the equal footing and perfect\\nunreserve which had soon followed Isabella's marriage, on their\\nbeing left to each other, was yet a dearer, tenderer recollection.\",\n",
       " 'She had been a friend and companion such as few possessed: intelligent,\\nwell-informed, useful, gentle, knowing all the ways of the family,\\ninterested in all its concerns, and peculiarly interested in herself,\\nin every pleasure, every scheme of hers--one to whom she could speak\\nevery thought as it arose, and who had such an affection for her\\nas could never find fault.',\n",
       " 'How was she to bear the change?--It was true that her friend was\\ngoing only half a mile from them; but Emma was aware that great must\\nbe the difference between a Mrs. Weston, only half a mile from them,\\nand a Miss Taylor in the house; and with all her advantages,\\nnatural and domestic, she was now in great danger of suffering\\nfrom intellectual solitude.',\n",
       " 'She dearly loved her father, but he\\nwas no companion for her.',\n",
       " 'He could not meet her in conversation,\\nrational or playful.',\n",
       " 'The evil of the actual disparity in their ages (and Mr. Woodhouse had\\nnot married early) was much increased by his constitution and habits;\\nfor having been a valetudinarian all his life, without activity\\nof mind or body, he was a much older man in ways than in years;\\nand though everywhere beloved for the friendliness of his heart\\nand his amiable temper, his talents could not have recommended him\\nat any time.',\n",
       " 'Her sister, though comparatively but little removed by matrimony,\\nbeing settled in London, only sixteen miles off, was much beyond\\nher daily reach; and many a long October and November evening must\\nbe struggled through at Hartfield, before Christmas brought the next\\nvisit from Isabella and her husband, and their little children,\\nto fill the house, and give her pleasant society again.',\n",
       " 'Highbury, the large and populous village, almost amounting to a town,\\nto which Hartfield, in spite of its separate lawn, and shrubberies,\\nand name, did really belong, afforded her no equals.',\n",
       " 'The Woodhouses\\nwere first in consequence there.',\n",
       " 'All looked up to them.',\n",
       " 'She had\\nmany acquaintance in the place, for her father was universally civil,\\nbut not one among them who could be accepted in lieu of Miss\\nTaylor for even half a day.',\n",
       " 'It was a melancholy change; and Emma\\ncould not but sigh over it, and wish for impossible things,\\ntill her father awoke, and made it necessary to be cheerful.',\n",
       " 'His spirits required support.',\n",
       " 'He was a nervous man, easily depressed;\\nfond of every body that he was used to, and hating to part with them;\\nhating change of every kind.',\n",
       " \"Matrimony, as the origin of change,\\nwas always disagreeable; and he was by no means yet reconciled\\nto his own daughter's marrying, nor could ever speak of her but\\nwith compassion, though it had been entirely a match of affection,\\nwhen he was now obliged to part with Miss Taylor too; and from\\nhis habits of gentle selfishness, and of being never able to\\nsuppose that other people could feel differently from himself,\\nhe was very much disposed to think Miss Taylor had done as sad\\na thing for herself as for them, and would have been a great deal\\nhappier if she had spent all the rest of her life at Hartfield.\",\n",
       " 'Emma smiled and chatted as cheerfully as she could, to keep him\\nfrom such thoughts; but when tea came, it was impossible for him\\nnot to say exactly as he had said at dinner,\\n\\n\"Poor Miss Taylor!--I wish she were here again.',\n",
       " 'What a pity it\\nis that Mr. Weston ever thought of her!\"',\n",
       " '\"I cannot agree with you, papa; you know I cannot.',\n",
       " 'Mr. Weston is such\\na good-humoured, pleasant, excellent man, that he thoroughly deserves\\na good wife;--and you would not have had Miss Taylor live with us\\nfor ever, and bear all my odd humours, when she might have a house of her own?\"',\n",
       " '\"A house of her own!--But where is the advantage of a house of her own?',\n",
       " 'This is three times as large.--And you have never any odd humours,\\nmy dear.\"',\n",
       " '\"How often we shall be going to see them, and they coming to see\\nus!--We shall be always meeting!',\n",
       " '_We_ must begin; we must go and pay\\nwedding visit very soon.\"']"
      ]
     },
     "execution_count": 13,
     "metadata": {},
     "output_type": "execute_result"
    }
   ],
   "source": [
    "from nltk.tokenize import word_tokenize, sent_tokenize\n",
    "nltk.sent_tokenize(emma)[12:40]"
   ]
  },
  {
   "cell_type": "code",
   "execution_count": 14,
   "id": "767c6811",
   "metadata": {
    "slideshow": {
     "slide_type": "slide"
    }
   },
   "outputs": [
    {
     "data": {
      "text/plain": [
       "{'a',\n",
       " 'about',\n",
       " 'above',\n",
       " 'after',\n",
       " 'again',\n",
       " 'against',\n",
       " 'ain',\n",
       " 'all',\n",
       " 'am',\n",
       " 'an',\n",
       " 'and',\n",
       " 'any',\n",
       " 'are',\n",
       " 'aren',\n",
       " \"aren't\",\n",
       " 'as',\n",
       " 'at',\n",
       " 'be',\n",
       " 'because',\n",
       " 'been',\n",
       " 'before',\n",
       " 'being',\n",
       " 'below',\n",
       " 'between',\n",
       " 'both',\n",
       " 'but',\n",
       " 'by',\n",
       " 'can',\n",
       " 'couldn',\n",
       " \"couldn't\",\n",
       " 'd',\n",
       " 'did',\n",
       " 'didn',\n",
       " \"didn't\",\n",
       " 'do',\n",
       " 'does',\n",
       " 'doesn',\n",
       " \"doesn't\",\n",
       " 'doing',\n",
       " 'don',\n",
       " \"don't\",\n",
       " 'down',\n",
       " 'during',\n",
       " 'each',\n",
       " 'few',\n",
       " 'for',\n",
       " 'from',\n",
       " 'further',\n",
       " 'had',\n",
       " 'hadn',\n",
       " \"hadn't\",\n",
       " 'has',\n",
       " 'hasn',\n",
       " \"hasn't\",\n",
       " 'have',\n",
       " 'haven',\n",
       " \"haven't\",\n",
       " 'having',\n",
       " 'he',\n",
       " 'her',\n",
       " 'here',\n",
       " 'hers',\n",
       " 'herself',\n",
       " 'him',\n",
       " 'himself',\n",
       " 'his',\n",
       " 'how',\n",
       " 'i',\n",
       " 'if',\n",
       " 'in',\n",
       " 'into',\n",
       " 'is',\n",
       " 'isn',\n",
       " \"isn't\",\n",
       " 'it',\n",
       " \"it's\",\n",
       " 'its',\n",
       " 'itself',\n",
       " 'just',\n",
       " 'll',\n",
       " 'm',\n",
       " 'ma',\n",
       " 'me',\n",
       " 'mightn',\n",
       " \"mightn't\",\n",
       " 'more',\n",
       " 'most',\n",
       " 'mustn',\n",
       " \"mustn't\",\n",
       " 'my',\n",
       " 'myself',\n",
       " 'needn',\n",
       " \"needn't\",\n",
       " 'no',\n",
       " 'nor',\n",
       " 'not',\n",
       " 'now',\n",
       " 'o',\n",
       " 'of',\n",
       " 'off',\n",
       " 'on',\n",
       " 'once',\n",
       " 'only',\n",
       " 'or',\n",
       " 'other',\n",
       " 'our',\n",
       " 'ours',\n",
       " 'ourselves',\n",
       " 'out',\n",
       " 'over',\n",
       " 'own',\n",
       " 're',\n",
       " 's',\n",
       " 'same',\n",
       " 'shan',\n",
       " \"shan't\",\n",
       " 'she',\n",
       " \"she's\",\n",
       " 'should',\n",
       " \"should've\",\n",
       " 'shouldn',\n",
       " \"shouldn't\",\n",
       " 'so',\n",
       " 'some',\n",
       " 'such',\n",
       " 't',\n",
       " 'than',\n",
       " 'that',\n",
       " \"that'll\",\n",
       " 'the',\n",
       " 'their',\n",
       " 'theirs',\n",
       " 'them',\n",
       " 'themselves',\n",
       " 'then',\n",
       " 'there',\n",
       " 'these',\n",
       " 'they',\n",
       " 'this',\n",
       " 'those',\n",
       " 'through',\n",
       " 'to',\n",
       " 'too',\n",
       " 'under',\n",
       " 'until',\n",
       " 'up',\n",
       " 've',\n",
       " 'very',\n",
       " 'was',\n",
       " 'wasn',\n",
       " \"wasn't\",\n",
       " 'we',\n",
       " 'were',\n",
       " 'weren',\n",
       " \"weren't\",\n",
       " 'what',\n",
       " 'when',\n",
       " 'where',\n",
       " 'which',\n",
       " 'while',\n",
       " 'who',\n",
       " 'whom',\n",
       " 'why',\n",
       " 'will',\n",
       " 'with',\n",
       " 'won',\n",
       " \"won't\",\n",
       " 'wouldn',\n",
       " \"wouldn't\",\n",
       " 'y',\n",
       " 'you',\n",
       " \"you'd\",\n",
       " \"you'll\",\n",
       " \"you're\",\n",
       " \"you've\",\n",
       " 'your',\n",
       " 'yours',\n",
       " 'yourself',\n",
       " 'yourselves'}"
      ]
     },
     "execution_count": 14,
     "metadata": {},
     "output_type": "execute_result"
    }
   ],
   "source": [
    "from nltk.corpus import stopwords\n",
    "stopWords = set(stopwords.words('english'))\n",
    "stopWords"
   ]
  },
  {
   "cell_type": "code",
   "execution_count": 15,
   "id": "707cd197",
   "metadata": {
    "slideshow": {
     "slide_type": "slide"
    }
   },
   "outputs": [],
   "source": [
    "from nltk.tokenize import regexp_tokenize"
   ]
  }
 ],
 "metadata": {
  "kernelspec": {
   "display_name": "Python 3 (ipykernel)",
   "language": "python",
   "name": "python3"
  },
  "language_info": {
   "codemirror_mode": {
    "name": "ipython",
    "version": 3
   },
   "file_extension": ".py",
   "mimetype": "text/x-python",
   "name": "python",
   "nbconvert_exporter": "python",
   "pygments_lexer": "ipython3",
   "version": "3.9.7"
  }
 },
 "nbformat": 4,
 "nbformat_minor": 5
}
