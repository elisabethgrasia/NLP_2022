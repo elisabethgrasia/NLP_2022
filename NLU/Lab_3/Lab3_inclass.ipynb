{
 "cells": [
  {
   "cell_type": "markdown",
   "id": "2cbd2b8a",
   "metadata": {},
   "source": [
    "#### Lab 3 in-class exercise"
   ]
  },
  {
   "cell_type": "code",
   "execution_count": 1,
   "id": "990a5881",
   "metadata": {},
   "outputs": [],
   "source": [
    "### A simple word counting exercise\n",
    "s = \"\"\"UN scientists are likely to weigh up technology to remove CO2 from the atmosphere, \n",
    "as they gather to finalise a key report. This idea will be one of many solutions considered \n",
    "over the next two weeks by the Intergovernmental Panel on Climate Change (IPCC).\n",
    "Also in attendance will be government officials from all over the world, \n",
    "who will need to approve every line in the summary report.\n",
    "\n",
    "This new study will be the third of three important reports from the IPCC issued over the \n",
    "past eight months. The previous two have looked at the causes and impacts of climate change, \n",
    "but this one will focus on mitigation - or what we can do to stop it.\n",
    "\n",
    "This essentially means that researchers will look at how we can reduce the amount of \n",
    "warming gases that are emitted from human activities. The kind of carbon removal approaches  \n",
    "the report will consider will likely include tree planting and agriculture, as well as the  \n",
    "more advanced technological approaches that use large machines to remove the carbon  \n",
    "from the air. \n",
    "\"\"\"\n"
   ]
  },
  {
   "cell_type": "markdown",
   "id": "81742b87",
   "metadata": {},
   "source": [
    "1. Write function which takes a string as input, tokenizes it and outputs a dictionary giving the count of each distinct token. \n",
    "2. Remove the stopwords from the tokens and do the counting again. "
   ]
  }
 ],
 "metadata": {
  "kernelspec": {
   "display_name": "Python 3 (ipykernel)",
   "language": "python",
   "name": "python3"
  },
  "language_info": {
   "codemirror_mode": {
    "name": "ipython",
    "version": 3
   },
   "file_extension": ".py",
   "mimetype": "text/x-python",
   "name": "python",
   "nbconvert_exporter": "python",
   "pygments_lexer": "ipython3",
   "version": "3.9.7"
  }
 },
 "nbformat": 4,
 "nbformat_minor": 5
}
