{
 "cells": [
  {
   "cell_type": "markdown",
   "metadata": {},
   "source": [
    "## Lab 3 Exercise   "
   ]
  },
  {
   "cell_type": "markdown",
   "metadata": {},
   "source": [
    "In this exercise you will get your first accquaintance with \"pandas\", \"numpy\" and \"matplotlib\". \n",
    "Please try to read up a bit on them. \n",
    "1. Pandas is the basic python library for data manipulation and processing. \n",
    "2. Numpy is for numerical python. \n",
    "3. Matplotlib is used for plotting and data visualization. "
   ]
  },
  {
   "cell_type": "markdown",
   "metadata": {},
   "source": [
    "Attached is a csv file of Twitter data. The file is called \"tweet_sample.csv\". As you probably know, \"csv\" stands for comma separated values. Before processing the files open it Excel or OpenOffice. Take a look at the columns and try to get an overall sense of the data. The columns are named **'ItemID', 'Sentiment', 'SentimentText'**. \n",
    "\n",
    "1. Read the file into a dataframe.   \n",
    "2. Split the dataframe into two dataframes of sizes 80% and 20% (of the original) respectively. The entries of the two later dataframes must be selceted randomly from the original.   \n",
    "3. Swap the columns '**SentimentText**' and '**Sentiment**'\n",
    "3. Save the two newly created dataframes as csv files \"train.csv\" and \"test.csv\" in the current folder (so no path) with new names for the columns \"**TweetText**\" and \"**TweetSentiment**\". This is a standard procedure in supervised learning. \n",
    "4. Create 2 lists of the tweets, \"trainList\" and \"testList\" and remove stopwords from each entry. You may use nltk stopwords.    \n",
    "5. Use **TweetTokenizer** from **nltk.tokenize** to tokenize the tweets. We have to use a special tokenizer because Twitter has it's own dialect!    \n",
    "6. Is it it a good idea to remove stopwards? Justify your answer in 2-3 sentences.   "
   ]
  },
  {
   "cell_type": "code",
   "execution_count": 3,
   "metadata": {},
   "outputs": [],
   "source": [
    "# 2 float arrays\n",
    "X = [-5.0, -4.5, -4.0, -3.5, -3.0, -2.5, -2.0, -1.5, -1.0, -0.5, 0.0, 0.5, 1.0, 1.5, 2.0, 2.5, 3.0, 3.5, 4.0, 4.5]\n",
    "Y= [-8.08, -7.43, -4.82, -3.77, -3.07, -2.81, 0.33, -3.64, -2.25, 0.0, -0.34, 1.6, 1.55, 1.86, \n",
    "      1.54, 3.79, 3.92, 4.95, 8.43, 5.31]"
   ]
  },
  {
   "cell_type": "code",
   "execution_count": 4,
   "metadata": {},
   "outputs": [
    {
     "data": {
      "text/plain": [
       "<matplotlib.collections.PathCollection at 0x1b44b2d9e20>"
      ]
     },
     "execution_count": 4,
     "metadata": {},
     "output_type": "execute_result"
    },
    {
     "data": {
      "image/png": "[encoded data removed]",
      "text/plain": [
       "<Figure size 432x288 with 1 Axes>"
      ]
     },
     "metadata": {
      "needs_background": "light"
     },
     "output_type": "display_data"
    }
   ],
   "source": [
    "#We plot x vs y, a scatterplot\n",
    "#scatter plots are useful for data visualization \n",
    "# These numbers were generated using sampling from a normal distribution!\n",
    "import matplotlib.pyplot as plt\n",
    "plt.scatter(X, Y)"
   ]
  },
  {
   "cell_type": "markdown",
   "metadata": {},
   "source": [
    "We posit a simple linear (regression) model:\n",
    "$$ Y = a\\cdot X + b$$\n",
    "So for different values of $X = x_1, x_2, \\dotsc, $ the corresponding valuyes for $Y$ are $Y = y_1, y_2, \\dotsc.$. The parameters $a$ and $b$ are unknown. \n",
    "\n",
    "We determine $a$, $b$ by *minimizing* the mean sqaure error \n",
    "$$ m = \\sum_i [y_i - (ax_i +b)]^2 $$"
   ]
  },
  {
   "cell_type": "markdown",
   "metadata": {},
   "source": [
    "Express the above expression as a matrix relation. \n",
    "\n",
    "Hint: Think in terms of scalar product and length. "
   ]
  }
 ],
 "metadata": {
  "kernelspec": {
   "display_name": "Python 3",
   "language": "python",
   "name": "python3"
  },
  "language_info": {
   "codemirror_mode": {
    "name": "ipython",
    "version": 3
   },
   "file_extension": ".py",
   "mimetype": "text/x-python",
   "name": "python",
   "nbconvert_exporter": "python",
   "pygments_lexer": "ipython3",
   "version": "3.8.5"
  }
 },
 "nbformat": 4,
 "nbformat_minor": 4
}
